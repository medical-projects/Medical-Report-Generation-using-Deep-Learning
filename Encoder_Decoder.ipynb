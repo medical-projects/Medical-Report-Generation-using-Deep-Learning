{
 "cells": [
  {
   "cell_type": "code",
   "execution_count": 1,
   "metadata": {},
   "outputs": [],
   "source": [
    "import numpy as np\n",
    "import pandas as pd\n",
    "import matplotlib.pyplot as plt\n",
    "import seaborn as sns\n",
    "from tqdm import tqdm\n",
    "import tensorflow as tf\n",
    "import cv2\n",
    "import pickle\n",
    "from tensorflow.keras.preprocessing.text import Tokenizer\n",
    "from tensorflow.keras.preprocessing.sequence import pad_sequences\n",
    "from sklearn.model_selection import train_test_split\n",
    "import time\n",
    "from tensorflow.keras.models import Model\n",
    "from tensorflow.keras.layers import Dense, LSTM, Input, Embedding, Conv2D, Concatenate, Flatten, Add, Dropout, GRU\n",
    "import random\n",
    "import datetime\n",
    "from nltk.translate.bleu_score import sentence_bleu"
   ]
  },
  {
   "cell_type": "code",
   "execution_count": 2,
   "metadata": {},
   "outputs": [
    {
     "data": {
      "text/html": [
       "<div>\n",
       "<style scoped>\n",
       "    .dataframe tbody tr th:only-of-type {\n",
       "        vertical-align: middle;\n",
       "    }\n",
       "\n",
       "    .dataframe tbody tr th {\n",
       "        vertical-align: top;\n",
       "    }\n",
       "\n",
       "    .dataframe thead th {\n",
       "        text-align: right;\n",
       "    }\n",
       "</style>\n",
       "<table border=\"1\" class=\"dataframe\">\n",
       "  <thead>\n",
       "    <tr style=\"text-align: right;\">\n",
       "      <th></th>\n",
       "      <th>Person_id</th>\n",
       "      <th>Image1</th>\n",
       "      <th>Image2</th>\n",
       "      <th>Report</th>\n",
       "    </tr>\n",
       "  </thead>\n",
       "  <tbody>\n",
       "    <tr>\n",
       "      <th>0</th>\n",
       "      <td>Scanned Images/CXR1_1_IM-0001_0</td>\n",
       "      <td>Scanned Images/CXR1_1_IM-0001-3001.png</td>\n",
       "      <td>Scanned Images/CXR1_1_IM-0001-4001.png</td>\n",
       "      <td>startseq the cardiac silhouette and mediastinu...</td>\n",
       "    </tr>\n",
       "    <tr>\n",
       "      <th>1</th>\n",
       "      <td>Scanned Images/CXR10_IM-0002_0</td>\n",
       "      <td>Scanned Images/CXR10_IM-0002-1001.png</td>\n",
       "      <td>Scanned Images/CXR10_IM-0002-2001.png</td>\n",
       "      <td>startseq the cardiomediastinal silhouette with...</td>\n",
       "    </tr>\n",
       "    <tr>\n",
       "      <th>2</th>\n",
       "      <td>Scanned Images/CXR100_IM-0002_0</td>\n",
       "      <td>Scanned Images/CXR100_IM-0002-1001.png</td>\n",
       "      <td>Scanned Images/CXR100_IM-0002-2001.png</td>\n",
       "      <td>startseq both lungs are clear and epanded . he...</td>\n",
       "    </tr>\n",
       "    <tr>\n",
       "      <th>3</th>\n",
       "      <td>Scanned Images/CXR1000_IM-0003_0</td>\n",
       "      <td>Scanned Images/CXR1000_IM-0003-1001.png</td>\n",
       "      <td>Scanned Images/CXR1000_IM-0003-2001.png</td>\n",
       "      <td>startseq there increased opacity within the ri...</td>\n",
       "    </tr>\n",
       "    <tr>\n",
       "      <th>4</th>\n",
       "      <td>Scanned Images/CXR1000_IM-0003_1</td>\n",
       "      <td>Scanned Images/CXR1000_IM-0003-1001.png</td>\n",
       "      <td>Scanned Images/CXR1000_IM-0003-3001.png</td>\n",
       "      <td>startseq there increased opacity within the ri...</td>\n",
       "    </tr>\n",
       "  </tbody>\n",
       "</table>\n",
       "</div>"
      ],
      "text/plain": [
       "                          Person_id                                   Image1  \\\n",
       "0   Scanned Images/CXR1_1_IM-0001_0   Scanned Images/CXR1_1_IM-0001-3001.png   \n",
       "1    Scanned Images/CXR10_IM-0002_0    Scanned Images/CXR10_IM-0002-1001.png   \n",
       "2   Scanned Images/CXR100_IM-0002_0   Scanned Images/CXR100_IM-0002-1001.png   \n",
       "3  Scanned Images/CXR1000_IM-0003_0  Scanned Images/CXR1000_IM-0003-1001.png   \n",
       "4  Scanned Images/CXR1000_IM-0003_1  Scanned Images/CXR1000_IM-0003-1001.png   \n",
       "\n",
       "                                    Image2  \\\n",
       "0   Scanned Images/CXR1_1_IM-0001-4001.png   \n",
       "1    Scanned Images/CXR10_IM-0002-2001.png   \n",
       "2   Scanned Images/CXR100_IM-0002-2001.png   \n",
       "3  Scanned Images/CXR1000_IM-0003-2001.png   \n",
       "4  Scanned Images/CXR1000_IM-0003-3001.png   \n",
       "\n",
       "                                              Report  \n",
       "0  startseq the cardiac silhouette and mediastinu...  \n",
       "1  startseq the cardiomediastinal silhouette with...  \n",
       "2  startseq both lungs are clear and epanded . he...  \n",
       "3  startseq there increased opacity within the ri...  \n",
       "4  startseq there increased opacity within the ri...  "
      ]
     },
     "execution_count": 2,
     "metadata": {},
     "output_type": "execute_result"
    }
   ],
   "source": [
    "dataset = pd.read_csv('Data.csv')\n",
    "dataset.head()"
   ]
  },
  {
   "cell_type": "code",
   "execution_count": 3,
   "metadata": {},
   "outputs": [],
   "source": [
    "X_train_img, X_cv_img, y_train_rep, y_cv_rep = train_test_split(dataset['Person_id'], dataset['Report'],\n",
    "                                                                test_size = 0.3094146209873213, random_state=97)"
   ]
  },
  {
   "cell_type": "code",
   "execution_count": 4,
   "metadata": {},
   "outputs": [
    {
     "data": {
      "text/plain": [
       "((2560,), (1147,))"
      ]
     },
     "execution_count": 4,
     "metadata": {},
     "output_type": "execute_result"
    }
   ],
   "source": [
    "X_train_img.shape, y_cv_rep.shape"
   ]
  },
  {
   "cell_type": "code",
   "execution_count": 5,
   "metadata": {},
   "outputs": [],
   "source": [
    "pad_size=155   # Max length"
   ]
  },
  {
   "cell_type": "code",
   "execution_count": 6,
   "metadata": {},
   "outputs": [],
   "source": [
    "tokenizer = Tokenizer(filters='!\"#$%&()*+,-/:;<=>?@[\\\\]^_`{|}~\\t\\n')\n",
    "tokenizer.fit_on_texts(y_train_rep.values)"
   ]
  },
  {
   "cell_type": "code",
   "execution_count": 7,
   "metadata": {},
   "outputs": [
    {
     "name": "stdout",
     "output_type": "stream",
     "text": [
      "1 Physical GPUs, 1 Logical GPUs\n"
     ]
    }
   ],
   "source": [
    "gpus = tf.config.experimental.list_physical_devices('GPU')\n",
    "if gpus:\n",
    "  try:\n",
    "    # Currently, memory growth needs to be the same across GPUs\n",
    "    for gpu in gpus:\n",
    "      tf.config.experimental.set_memory_growth(gpu, True)\n",
    "    logical_gpus = tf.config.experimental.list_logical_devices('GPU')\n",
    "    print(len(gpus), \"Physical GPUs,\", len(logical_gpus), \"Logical GPUs\")\n",
    "  except RuntimeError as e:\n",
    "    # Memory growth must be set before GPUs have been initialized\n",
    "    print(e)"
   ]
  },
  {
   "cell_type": "code",
   "execution_count": 10,
   "metadata": {},
   "outputs": [],
   "source": [
    "f = open('Xnet_Features.pickle','rb') # contains the features from chexNet\n",
    "Xnet_Features = pickle.load(f)\n",
    "f.close()"
   ]
  },
  {
   "cell_type": "code",
   "execution_count": 11,
   "metadata": {},
   "outputs": [],
   "source": [
    "f = open('GLOVE_VECTORS.pickle','rb') # 300d glove vectors  \n",
    "glove_vectors = pickle.load(f)\n",
    "f.close()"
   ]
  },
  {
   "cell_type": "code",
   "execution_count": 12,
   "metadata": {},
   "outputs": [],
   "source": [
    "vocab_size = len(tokenizer.word_index.keys()) + 1"
   ]
  },
  {
   "cell_type": "code",
   "execution_count": 13,
   "metadata": {},
   "outputs": [],
   "source": [
    "embedding_matrix = np.zeros((vocab_size,300))\n",
    "for word, i in tokenizer.word_index.items():\n",
    "    if word in glove_vectors.keys():\n",
    "        vec = glove_vectors[word]\n",
    "        embedding_matrix[i] = vec\n",
    "    else:\n",
    "        continue"
   ]
  },
  {
   "cell_type": "code",
   "execution_count": 14,
   "metadata": {},
   "outputs": [],
   "source": [
    "BATCH_SIZE = 10"
   ]
  },
  {
   "cell_type": "code",
   "execution_count": 15,
   "metadata": {},
   "outputs": [],
   "source": [
    "def load_image(id_, report):\n",
    "    '''Loads the Image Features with their corresponding Ids'''\n",
    "    img_feature = Xnet_Features[id_.decode('utf-8')][0]\n",
    "    return img_feature, report"
   ]
  },
  {
   "cell_type": "code",
   "execution_count": 16,
   "metadata": {},
   "outputs": [],
   "source": [
    "def create_dataset(img_name_train,caption_train):\n",
    "  \n",
    "    dataset = tf.data.Dataset.from_tensor_slices((img_name_train, caption_train))\n",
    "\n",
    "  # Use map to load the numpy files in parallel\n",
    "    dataset = dataset.map(lambda item1, item2: tf.numpy_function(load_image, [item1, item2], [tf.float32, tf.string]),\n",
    "                          num_parallel_calls=tf.data.experimental.AUTOTUNE)\n",
    "\n",
    "  # Shuffle and batch\n",
    "    dataset = dataset.shuffle(500).batch(BATCH_SIZE).prefetch(buffer_size=tf.data.experimental.AUTOTUNE)\n",
    "    return dataset"
   ]
  },
  {
   "cell_type": "code",
   "execution_count": 17,
   "metadata": {},
   "outputs": [],
   "source": [
    "train_dataset = create_dataset(X_train_img, y_train_rep)\n",
    "cv_dataset = create_dataset(X_cv_img, y_cv_rep)"
   ]
  },
  {
   "cell_type": "code",
   "execution_count": 18,
   "metadata": {},
   "outputs": [],
   "source": [
    "def bytes_to_string(arr):\n",
    "    '''The generator gives provides data in bytes. This function converts them back to strings for manipulation'''\n",
    "    for i in range(len(arr)):\n",
    "        arr[i] = arr[i].decode('utf-8')\n",
    "    return arr"
   ]
  },
  {
   "cell_type": "code",
   "execution_count": 19,
   "metadata": {},
   "outputs": [],
   "source": [
    "def convert(images, reports):\n",
    "    '''This function takes the batch of data and converts them into a new dataset(A WORD BY WORD DATASET)'''\n",
    "    imgs = []\n",
    "    in_reports = []\n",
    "    out_reports = []\n",
    "    for i in range(len(images)):\n",
    "        sequence = [tokenizer.word_index[e] for e in reports[i].split() if e in tokenizer.word_index.keys()]\n",
    "      #  print(sequence)\n",
    "        for j in range(1,len(sequence)):\n",
    "\n",
    "            in_seq = sequence[:j]\n",
    "            out_seq = sequence[j]\n",
    "            out_seq = tf.keras.utils.to_categorical(out_seq, num_classes=vocab_size)\n",
    "\n",
    "            imgs.append(images[i])\n",
    "          #  print(in_seq)\n",
    "            in_reports.append(in_seq)\n",
    "           # print(out_seq)\n",
    "            out_reports.append(out_seq)\n",
    "        \n",
    "    return np.array(imgs), np.array(in_reports), np.array(out_reports)"
   ]
  },
  {
   "cell_type": "code",
   "execution_count": 20,
   "metadata": {},
   "outputs": [],
   "source": [
    "np.random.seed(42)\n",
    "\n",
    "##fixing tensorflow RS\n",
    "tf.random.set_seed(32)\n",
    "\n",
    "##python RS\n",
    "random.seed(12)"
   ]
  },
  {
   "cell_type": "code",
   "execution_count": 21,
   "metadata": {},
   "outputs": [
    {
     "name": "stdout",
     "output_type": "stream",
     "text": [
      "Model: \"model\"\n",
      "__________________________________________________________________________________________________\n",
      "Layer (type)                    Output Shape         Param #     Connected to                     \n",
      "==================================================================================================\n",
      "Text_Input (InputLayer)         [(None, 155)]        0                                            \n",
      "__________________________________________________________________________________________________\n",
      "Embedding_layer (Embedding)     (None, 155, 300)     421500      Text_Input[0][0]                 \n",
      "__________________________________________________________________________________________________\n",
      "Image_1 (InputLayer)            [(None, 2048)]       0                                            \n",
      "__________________________________________________________________________________________________\n",
      "LSTM2 (LSTM)                    (None, 256)          570368      Embedding_layer[0][0]            \n",
      "__________________________________________________________________________________________________\n",
      "dense_encoder (Dense)           (None, 256)          524544      Image_1[0][0]                    \n",
      "__________________________________________________________________________________________________\n",
      "dropout1 (Dropout)              (None, 256)          0           LSTM2[0][0]                      \n",
      "__________________________________________________________________________________________________\n",
      "add (Add)                       (None, 256)          0           dense_encoder[0][0]              \n",
      "                                                                 dropout1[0][0]                   \n",
      "__________________________________________________________________________________________________\n",
      "fc1 (Dense)                     (None, 256)          65792       add[0][0]                        \n",
      "__________________________________________________________________________________________________\n",
      "Output_layer (Dense)            (None, 1405)         361085      fc1[0][0]                        \n",
      "==================================================================================================\n",
      "Total params: 1,943,289\n",
      "Trainable params: 1,521,789\n",
      "Non-trainable params: 421,500\n",
      "__________________________________________________________________________________________________\n"
     ]
    }
   ],
   "source": [
    "input1 = Input(shape=(2048), name='Image_1')\n",
    "dense1 = Dense(256, kernel_initializer=tf.keras.initializers.glorot_uniform(seed = 56), name='dense_encoder')(input1)\n",
    "\n",
    "input2 = Input(shape=(155), name='Text_Input')\n",
    "emb_layer = Embedding(input_dim = vocab_size, output_dim = 300, input_length=155, mask_zero=True, trainable=False, \n",
    "                weights=[embedding_matrix], name=\"Embedding_layer\")\n",
    "emb = emb_layer(input2)\n",
    "\n",
    "LSTM2 = LSTM(units=256, activation='tanh', recurrent_activation='sigmoid', use_bias=True, \n",
    "            kernel_initializer=tf.keras.initializers.glorot_uniform(seed=23),\n",
    "            recurrent_initializer=tf.keras.initializers.orthogonal(seed=7),\n",
    "            bias_initializer=tf.keras.initializers.zeros(), name=\"LSTM2\")\n",
    "LSTM2_output = LSTM2(emb)\n",
    "\n",
    "dropout1 = Dropout(0.5, name='dropout1')(LSTM2_output)\n",
    "\n",
    "dec =  tf.keras.layers.Add()([dense1, dropout1])\n",
    "\n",
    "fc1 = Dense(256, activation='relu', kernel_initializer=tf.keras.initializers.he_normal(seed = 63), name='fc1')\n",
    "fc1_output = fc1(dec)\n",
    "output_layer = Dense(vocab_size, activation='softmax', name='Output_layer')\n",
    "output = output_layer(fc1_output)\n",
    "\n",
    "encoder_decoder = Model(inputs = [input1, input2], outputs = output)\n",
    "encoder_decoder.summary()"
   ]
  },
  {
   "cell_type": "code",
   "execution_count": 116,
   "metadata": {},
   "outputs": [
    {
     "data": {
      "image/png": "[encoded data removed]",
      "text/plain": [
       "<IPython.core.display.Image object>"
      ]
     },
     "execution_count": 116,
     "metadata": {},
     "output_type": "execute_result"
    }
   ],
   "source": [
    "tf.keras.utils.plot_model(encoder_decoder)"
   ]
  },
  {
   "cell_type": "code",
   "execution_count": 117,
   "metadata": {},
   "outputs": [],
   "source": [
    "optimizer = tf.keras.optimizers.Adam(0.001)"
   ]
  },
  {
   "cell_type": "code",
   "execution_count": 89,
   "metadata": {},
   "outputs": [],
   "source": [
    "loss_function = tf.keras.losses.CategoricalCrossentropy(from_logits=False, reduction='auto')\n",
    "\n",
    "def maskedLoss(y_true, y_pred):\n",
    "    #getting mask value\n",
    "    mask = tf.math.logical_not(tf.math.equal(y_true, 0))\n",
    "    \n",
    "    #calculating the loss\n",
    "    loss_ = loss_function(y_true, y_pred)\n",
    "    \n",
    "    #converting mask dtype to loss_ dtype\n",
    "    mask = tf.cast(mask, dtype=loss_.dtype)\n",
    "    \n",
    "    #applying the mask to loss\n",
    "    loss_ = loss_*mask\n",
    "    \n",
    "    #getting mean over all the values\n",
    "    loss_ = tf.reduce_mean(loss_)\n",
    "    return loss_"
   ]
  },
  {
   "cell_type": "code",
   "execution_count": 90,
   "metadata": {},
   "outputs": [],
   "source": [
    "encoder_decoder.compile(optimizer, loss = maskedLoss)"
   ]
  },
  {
   "cell_type": "code",
   "execution_count": 91,
   "metadata": {},
   "outputs": [],
   "source": [
    "current_time = datetime.datetime.now().strftime(\"%Y%m%d-%H%M%S\")\n",
    "train_log_dir = 'Tensorboard/logs_m3/fit5/' + current_time + '/train'\n",
    "val_log_dir = 'Tensorboard/logs_m3/fit5/' + current_time + '/test'\n",
    "train_summary_writer = tf.summary.create_file_writer(train_log_dir)\n",
    "val_summary_writer = tf.summary.create_file_writer(val_log_dir)"
   ]
  },
  {
   "cell_type": "markdown",
   "metadata": {},
   "source": [
    "## Training for epochs 1-20"
   ]
  },
  {
   "cell_type": "code",
   "execution_count": 123,
   "metadata": {
    "scrolled": false
   },
   "outputs": [
    {
     "name": "stdout",
     "output_type": "stream",
     "text": [
      "EPOCH :  1\n",
      "Training Loss: 0.0028966069589841936,  Val Loss: 0.0021542243929089685\n",
      "Time Taken for this Epoch : 23.579204559326172 sec\n",
      "EPOCH :  2\n",
      "Training Loss: 0.0019562640891308547,  Val Loss: 0.0017601502272953983\n",
      "Time Taken for this Epoch : 14.455883264541626 sec\n",
      "EPOCH :  3\n",
      "Training Loss: 0.0016780756868683966,  Val Loss: 0.0015751209555259138\n",
      "Time Taken for this Epoch : 14.525048732757568 sec\n",
      "EPOCH :  4\n",
      "Training Loss: 0.00152934992433984,  Val Loss: 0.0014563908426728296\n",
      "Time Taken for this Epoch : 14.128231763839722 sec\n",
      "EPOCH :  5\n",
      "Training Loss: 0.0014233998001600412,  Val Loss: 0.0013940949554620474\n",
      "Time Taken for this Epoch : 15.233656406402588 sec\n",
      "EPOCH :  6\n",
      "Training Loss: 0.001336231786353892,  Val Loss: 0.0013491677910726714\n",
      "Time Taken for this Epoch : 14.19428014755249 sec\n",
      "EPOCH :  7\n",
      "Training Loss: 0.0012704101520739641,  Val Loss: 0.0013157685804017411\n",
      "Time Taken for this Epoch : 14.94893765449524 sec\n",
      "EPOCH :  8\n",
      "Training Loss: 0.0012079719838311576,  Val Loss: 0.0013034576151863132\n",
      "Time Taken for this Epoch : 15.444661855697632 sec\n",
      "EPOCH :  9\n",
      "Training Loss: 0.0011643009365798207,  Val Loss: 0.0012682611291223254\n",
      "Time Taken for this Epoch : 13.853120803833008 sec\n",
      "EPOCH :  10\n",
      "Training Loss: 0.001118218294777762,  Val Loss: 0.0012379065666576487\n",
      "Time Taken for this Epoch : 14.464631080627441 sec\n",
      "EPOCH :  11\n",
      "Training Loss: 0.0010791127203901851,  Val Loss: 0.0012310563735745586\n",
      "Time Taken for this Epoch : 14.18094539642334 sec\n",
      "EPOCH :  12\n",
      "Training Loss: 0.0010450806996686879,  Val Loss: 0.0012242664667785888\n",
      "Time Taken for this Epoch : 14.426320791244507 sec\n",
      "EPOCH :  13\n",
      "Training Loss: 0.001008564760468289,  Val Loss: 0.0012379548082990049\n",
      "Time Taken for this Epoch : 15.211865901947021 sec\n",
      "EPOCH :  14\n",
      "Training Loss: 0.0009742603569975472,  Val Loss: 0.0012323182309046388\n",
      "Time Taken for this Epoch : 14.134411334991455 sec\n",
      "EPOCH :  15\n",
      "Training Loss: 0.0009475896811181883,  Val Loss: 0.0012210896756937074\n",
      "Time Taken for this Epoch : 14.551651954650879 sec\n",
      "EPOCH :  16\n",
      "Training Loss: 0.000923034266634204,  Val Loss: 0.0012208233810062602\n",
      "Time Taken for this Epoch : 14.500694751739502 sec\n",
      "EPOCH :  17\n",
      "Training Loss: 0.0008983623757785608,  Val Loss: 0.0011987605263895698\n",
      "Time Taken for this Epoch : 14.478047847747803 sec\n",
      "EPOCH :  18\n",
      "Training Loss: 0.0008729583753392944,  Val Loss: 0.0012231982185958738\n",
      "Time Taken for this Epoch : 14.142256736755371 sec\n",
      "EPOCH :  19\n",
      "Training Loss: 0.0008548556370442384,  Val Loss: 0.0012656317741953228\n",
      "Time Taken for this Epoch : 14.096654891967773 sec\n",
      "EPOCH :  20\n",
      "Training Loss: 0.0008317341367956033,  Val Loss: 0.0012285724106620539\n",
      "Time Taken for this Epoch : 14.930938720703125 sec\n"
     ]
    }
   ],
   "source": [
    "epoch_train_loss = []\n",
    "epoch_val_loss = []\n",
    "\n",
    "for epoch in range(20):\n",
    "    print('EPOCH : ',epoch+1)\n",
    "    start = time.time()\n",
    "    batch_loss_tr = 0\n",
    "    batch_loss_vl = 0\n",
    "    \n",
    "    for img, report in train_dataset:\n",
    "       \n",
    "        r1 = bytes_to_string(report.numpy())\n",
    "        img_input, rep_input, output_word = convert(img.numpy(), r1)\n",
    "        rep_input = pad_sequences(rep_input, maxlen=155, padding='post')\n",
    "        results = encoder_decoder.train_on_batch([img_input, rep_input], output_word)\n",
    "        \n",
    "        batch_loss_tr += results\n",
    "\n",
    "    train_loss = batch_loss_tr/(X_train_img.shape[0]//10)\n",
    " #   print('Saving Tensorboard')\n",
    "    with train_summary_writer.as_default():\n",
    "        tf.summary.scalar('loss', train_loss, step = epoch)\n",
    "    \n",
    "    for img, report in cv_dataset:\n",
    "        \n",
    "        r1 = bytes_to_string(report.numpy())\n",
    "        img_input, rep_input, output_word = convert(img.numpy(), r1)\n",
    "        rep_input = pad_sequences(rep_input, maxlen=155, padding='post')\n",
    "        results = encoder_decoder.test_on_batch([img_input, rep_input], output_word)\n",
    "        batch_loss_vl += results\n",
    "    \n",
    "    val_loss = batch_loss_vl/(X_cv_img.shape[0]//10)\n",
    "    \n",
    "    with val_summary_writer.as_default():\n",
    "        tf.summary.scalar('loss', val_loss, step = epoch)\n",
    "\n",
    "    epoch_train_loss.append(train_loss)\n",
    "\n",
    "    epoch_val_loss.append(val_loss)\n",
    "    \n",
    "    print('Training Loss: {},  Val Loss: {}'.format(train_loss, val_loss))\n",
    "    print('Time Taken for this Epoch : {} sec'.format(time.time()-start))   \n",
    "    encoder_decoder.save_weights('Weights/BM7_new_model1_epoch_'+ str(epoch+1) + '.h5')"
   ]
  },
  {
   "cell_type": "markdown",
   "metadata": {},
   "source": [
    "## Training for epochs 20-30"
   ]
  },
  {
   "cell_type": "code",
   "execution_count": 134,
   "metadata": {},
   "outputs": [
    {
     "name": "stdout",
     "output_type": "stream",
     "text": [
      "EPOCH :  21\n",
      "Training Loss: 0.0008057316224494571,  Val Loss: 0.001227356815657562\n",
      "Time Taken for this Epoch : 14.041675329208374 sec\n",
      "EPOCH :  22\n",
      "Training Loss: 0.0007995327091521176,  Val Loss: 0.0012603285911354121\n",
      "Time Taken for this Epoch : 15.313365459442139 sec\n",
      "EPOCH :  23\n",
      "Training Loss: 0.0007772460181740826,  Val Loss: 0.0012541428538194548\n",
      "Time Taken for this Epoch : 14.080343008041382 sec\n",
      "EPOCH :  24\n",
      "Training Loss: 0.0007655928245640098,  Val Loss: 0.0012535887199511197\n",
      "Time Taken for this Epoch : 14.64665412902832 sec\n",
      "EPOCH :  25\n",
      "Training Loss: 0.0007457995608319834,  Val Loss: 0.0012454559134008984\n",
      "Time Taken for this Epoch : 14.117677211761475 sec\n",
      "EPOCH :  26\n",
      "Training Loss: 0.0007327409396111761,  Val Loss: 0.0012420808917867315\n",
      "Time Taken for this Epoch : 14.46177053451538 sec\n",
      "EPOCH :  27\n",
      "Training Loss: 0.0007149813209252898,  Val Loss: 0.001267771149542297\n",
      "Time Taken for this Epoch : 15.307510137557983 sec\n",
      "EPOCH :  28\n",
      "Training Loss: 0.000703105307138685,  Val Loss: 0.0012796010526934672\n",
      "Time Taken for this Epoch : 14.092070579528809 sec\n",
      "EPOCH :  29\n",
      "Training Loss: 0.0006892596734360268,  Val Loss: 0.0013009552310809102\n",
      "Time Taken for this Epoch : 14.432080507278442 sec\n",
      "EPOCH :  30\n",
      "Training Loss: 0.0006778884455798107,  Val Loss: 0.0013061673834862742\n",
      "Time Taken for this Epoch : 14.090949535369873 sec\n"
     ]
    }
   ],
   "source": [
    "epoch_train_loss = []\n",
    "epoch_val_loss = []\n",
    "\n",
    "for epoch in range(20,30):\n",
    "    print('EPOCH : ',epoch+1)\n",
    "    start = time.time()\n",
    "    batch_loss_tr = 0\n",
    "    batch_loss_vl = 0\n",
    "    \n",
    "    for img, report in train_dataset:\n",
    "       \n",
    "        r1 = bytes_to_string(report.numpy())\n",
    "        img_input, rep_input, output_word = convert(img.numpy(), r1)\n",
    "        rep_input = pad_sequences(rep_input, maxlen=155, padding='post')\n",
    "        results = encoder_decoder.train_on_batch([img_input, rep_input], output_word)\n",
    "        \n",
    "        batch_loss_tr += results\n",
    "\n",
    "    train_loss = batch_loss_tr/(X_train_img.shape[0]//10)\n",
    " #   print('Saving Tensorboard')\n",
    "    with train_summary_writer.as_default():\n",
    "        tf.summary.scalar('loss', train_loss, step = epoch)\n",
    "    \n",
    "    for img, report in cv_dataset:\n",
    "        \n",
    "        r1 = bytes_to_string(report.numpy())\n",
    "        img_input, rep_input, output_word = convert(img.numpy(), r1)\n",
    "        rep_input = pad_sequences(rep_input, maxlen=155, padding='post')\n",
    "        results = encoder_decoder.test_on_batch([img_input, rep_input], output_word)\n",
    "        batch_loss_vl += results\n",
    "    \n",
    "    val_loss = batch_loss_vl/(X_cv_img.shape[0]//10)\n",
    "    \n",
    "    with val_summary_writer.as_default():\n",
    "        tf.summary.scalar('loss', val_loss, step = epoch)\n",
    "\n",
    "    epoch_train_loss.append(train_loss)\n",
    "\n",
    "    epoch_val_loss.append(val_loss)\n",
    "    \n",
    "    print('Training Loss: {},  Val Loss: {}'.format(train_loss, val_loss))\n",
    "    print('Time Taken for this Epoch : {} sec'.format(time.time()-start))   \n",
    "    encoder_decoder.save_weights('Weights/BM7_new_model1_epoch_'+ str(epoch+1) + '.h5')"
   ]
  },
  {
   "cell_type": "markdown",
   "metadata": {},
   "source": [
    "## Training for epochs 30-40"
   ]
  },
  {
   "cell_type": "code",
   "execution_count": 145,
   "metadata": {},
   "outputs": [
    {
     "name": "stdout",
     "output_type": "stream",
     "text": [
      "EPOCH :  31\n",
      "Training Loss: 0.000666852402105178,  Val Loss: 0.0013062685019369319\n",
      "Time Taken for this Epoch : 13.874699115753174 sec\n",
      "EPOCH :  32\n",
      "Training Loss: 0.0006547168727593089,  Val Loss: 0.0012872591333896771\n",
      "Time Taken for this Epoch : 13.763872623443604 sec\n",
      "EPOCH :  33\n",
      "Training Loss: 0.0006486363139401874,  Val Loss: 0.001310949107599363\n",
      "Time Taken for this Epoch : 14.267862558364868 sec\n",
      "EPOCH :  34\n",
      "Training Loss: 0.0006375133825713419,  Val Loss: 0.0013070465356577188\n",
      "Time Taken for this Epoch : 13.998978614807129 sec\n",
      "EPOCH :  35\n",
      "Training Loss: 0.0006293521777251954,  Val Loss: 0.001388719677363457\n",
      "Time Taken for this Epoch : 14.298990488052368 sec\n",
      "EPOCH :  36\n",
      "Training Loss: 0.0006197963695058206,  Val Loss: 0.0013535453204224866\n",
      "Time Taken for this Epoch : 14.397833585739136 sec\n",
      "EPOCH :  37\n",
      "Training Loss: 0.0006140475469464945,  Val Loss: 0.0013309109229962097\n",
      "Time Taken for this Epoch : 14.795084238052368 sec\n",
      "EPOCH :  38\n",
      "Training Loss: 0.0006066850222623543,  Val Loss: 0.001344707585654728\n",
      "Time Taken for this Epoch : 14.075730085372925 sec\n",
      "EPOCH :  39\n",
      "Training Loss: 0.0005903654815710979,  Val Loss: 0.0013682481150138763\n",
      "Time Taken for this Epoch : 14.275572538375854 sec\n",
      "EPOCH :  40\n",
      "Training Loss: 0.000586060152841128,  Val Loss: 0.001374361589305887\n",
      "Time Taken for this Epoch : 13.8932945728302 sec\n"
     ]
    }
   ],
   "source": [
    "epoch_train_loss = []\n",
    "epoch_val_loss = []\n",
    "\n",
    "for epoch in range(30, 40):\n",
    "    print('EPOCH : ',epoch+1)\n",
    "    start = time.time()\n",
    "    batch_loss_tr = 0\n",
    "    batch_loss_vl = 0\n",
    "    \n",
    "    for img, report in train_dataset:\n",
    "       \n",
    "        r1 = bytes_to_string(report.numpy())\n",
    "        img_input, rep_input, output_word = convert(img.numpy(), r1)\n",
    "        rep_input = pad_sequences(rep_input, maxlen=155, padding='post')\n",
    "        results = encoder_decoder.train_on_batch([img_input, rep_input], output_word)\n",
    "        \n",
    "        batch_loss_tr += results\n",
    "\n",
    "    train_loss = batch_loss_tr/(X_train_img.shape[0]//10)\n",
    " #   print('Saving Tensorboard')\n",
    "    with train_summary_writer.as_default():\n",
    "        tf.summary.scalar('loss', train_loss, step = epoch)\n",
    "    \n",
    "    for img, report in cv_dataset:\n",
    "        \n",
    "        r1 = bytes_to_string(report.numpy())\n",
    "        img_input, rep_input, output_word = convert(img.numpy(), r1)\n",
    "        rep_input = pad_sequences(rep_input, maxlen=155, padding='post')\n",
    "        results = encoder_decoder.test_on_batch([img_input, rep_input], output_word)\n",
    "        batch_loss_vl += results\n",
    "    \n",
    "    val_loss = batch_loss_vl/(X_cv_img.shape[0]//10)\n",
    "    \n",
    "    with val_summary_writer.as_default():\n",
    "        tf.summary.scalar('loss', val_loss, step = epoch)\n",
    "\n",
    "    epoch_train_loss.append(train_loss)\n",
    "\n",
    "    epoch_val_loss.append(val_loss)\n",
    "    \n",
    "    print('Training Loss: {},  Val Loss: {}'.format(train_loss, val_loss))\n",
    "    print('Time Taken for this Epoch : {} sec'.format(time.time()-start))   \n",
    "    encoder_decoder.save_weights('Weights/BM7_new_model1_epoch_'+ str(epoch+1) + '.h5')"
   ]
  },
  {
   "cell_type": "markdown",
   "metadata": {},
   "source": [
    "## Inference Setup"
   ]
  },
  {
   "cell_type": "code",
   "execution_count": 146,
   "metadata": {},
   "outputs": [],
   "source": [
    "# encoder\n",
    "encoder_input = encoder_decoder.input[0]\n",
    "encoder_output = encoder_decoder.get_layer('dense_encoder').output\n",
    "encoder_model = Model(encoder_input, encoder_output)\n",
    "\n",
    "# decoder# \n",
    "text_input = encoder_decoder.input[1]\n",
    "enc_output = Input(shape=(256,), name='Enc_Output')\n",
    "text_output = encoder_decoder.get_layer('LSTM2').output\n",
    "add1 = tf.keras.layers.Add()([text_output, enc_output])\n",
    "fc_1 = fc1(add1)\n",
    "decoder_output = output_layer(fc_1)\n",
    "\n",
    "decoder_model = Model(inputs = [text_input, enc_output], outputs = decoder_output)"
   ]
  },
  {
   "cell_type": "code",
   "execution_count": 147,
   "metadata": {},
   "outputs": [],
   "source": [
    "def greedysearch(img):\n",
    "    image = Xnet_Features[img]\n",
    "    input_ = 'startseq'\n",
    "    image_features = encoder_model.predict(image)\n",
    "    \n",
    "    result = []\n",
    "    for i in range(155):\n",
    "        input_tok = [tokenizer.word_index[w] for w in input_.split()]\n",
    "        input_padded = pad_sequences([input_tok], 155, padding='post')\n",
    "        predictions = decoder_model.predict([input_padded, image_features])\n",
    "        arg = np.argmax(predictions)\n",
    "        if arg != 7:   # endseq\n",
    "            result.append(tokenizer.index_word[arg])\n",
    "            input_ = input_ + ' ' + tokenizer.index_word[arg]\n",
    "        else:\n",
    "            break\n",
    "    rep = ' '.join(e for e in result)\n",
    "    return rep"
   ]
  },
  {
   "cell_type": "markdown",
   "metadata": {},
   "source": [
    "# Eg: 1"
   ]
  },
  {
   "cell_type": "code",
   "execution_count": 126,
   "metadata": {},
   "outputs": [
    {
     "data": {
      "text/plain": [
       "'the heart normal size . the mediastinum unremarkable . the lungs are hypoinflated but grossly clear .'"
      ]
     },
     "execution_count": 126,
     "metadata": {},
     "output_type": "execute_result"
    }
   ],
   "source": [
    "res36 = greedysearch(X_cv_img.values[36]) # result after 20 epochs\n",
    "res36"
   ]
  },
  {
   "cell_type": "code",
   "execution_count": 137,
   "metadata": {},
   "outputs": [
    {
     "data": {
      "text/plain": [
       "'the heart size and pulmonary vascularity appear within normal limits . the lungs are free focal airspace disease . no pleural effusion pneumothora seen .'"
      ]
     },
     "execution_count": 137,
     "metadata": {},
     "output_type": "execute_result"
    }
   ],
   "source": [
    "res36 = greedysearch(X_cv_img.values[36]) # result after 30 epochs\n",
    "res36"
   ]
  },
  {
   "cell_type": "code",
   "execution_count": 148,
   "metadata": {},
   "outputs": [
    {
     "data": {
      "text/plain": [
       "'the heart normal size and contour . there no mediastinal widening . no focal airspace disease . no pleural effusion pneumothora . the visualized bony structures reveal no acute abnormalities .'"
      ]
     },
     "execution_count": 148,
     "metadata": {},
     "output_type": "execute_result"
    }
   ],
   "source": [
    "res36 = greedysearch(X_cv_img.values[36]) # result after 40 epochs\n",
    "res36"
   ]
  },
  {
   "cell_type": "code",
   "execution_count": 158,
   "metadata": {},
   "outputs": [
    {
     "data": {
      "text/plain": [
       "'startseq heart size and pulmonary vascularity within normal limits . no focal infiltrate pneumothora pleural effusion identified . endseq'"
      ]
     },
     "execution_count": 158,
     "metadata": {},
     "output_type": "execute_result"
    }
   ],
   "source": [
    "y_cv_rep.values[36]  # original"
   ]
  },
  {
   "cell_type": "markdown",
   "metadata": {},
   "source": [
    "# Eg: 2"
   ]
  },
  {
   "cell_type": "code",
   "execution_count": 127,
   "metadata": {},
   "outputs": [
    {
     "data": {
      "text/plain": [
       "'the heart and lungs have the interval . both lungs are clear and epanded . heart and mediastinum normal .'"
      ]
     },
     "execution_count": 127,
     "metadata": {},
     "output_type": "execute_result"
    }
   ],
   "source": [
    "res72 = greedysearch(X_cv_img.values[72]) # result after 20 epochs\n",
    "res72"
   ]
  },
  {
   "cell_type": "code",
   "execution_count": 138,
   "metadata": {},
   "outputs": [
    {
     "data": {
      "text/plain": [
       "'the heart normal size . the mediastinum unremarkable . the lungs are clear .'"
      ]
     },
     "execution_count": 138,
     "metadata": {},
     "output_type": "execute_result"
    }
   ],
   "source": [
    "res72 = greedysearch(X_cv_img.values[72]) # result after 30 epochs\n",
    "res72"
   ]
  },
  {
   "cell_type": "code",
   "execution_count": 149,
   "metadata": {},
   "outputs": [
    {
     "data": {
      "text/plain": [
       "'the heart normal size and contour . there no mediastinal widening . the lungs are clear bilaterally . no large pleural effusion pneumothora . the are intact .'"
      ]
     },
     "execution_count": 149,
     "metadata": {},
     "output_type": "execute_result"
    }
   ],
   "source": [
    "res72 = greedysearch(X_cv_img.values[72]) # result after 40 epochs\n",
    "res72"
   ]
  },
  {
   "cell_type": "code",
   "execution_count": 161,
   "metadata": {},
   "outputs": [
    {
     "data": {
      "text/plain": [
       "'startseq the heart normal size . the mediastinum unremarkable . the lungs are clear . endseq'"
      ]
     },
     "execution_count": 161,
     "metadata": {},
     "output_type": "execute_result"
    }
   ],
   "source": [
    "y_cv_rep.values[72] # original"
   ]
  },
  {
   "cell_type": "markdown",
   "metadata": {},
   "source": [
    "# Eg: 3"
   ]
  },
  {
   "cell_type": "code",
   "execution_count": 128,
   "metadata": {},
   "outputs": [
    {
     "data": {
      "text/plain": [
       "'the heart size and pulmonary vascularity appear within normal limits . the lungs are free focal airspace disease . no pleural effusion pneumothora seen .'"
      ]
     },
     "execution_count": 128,
     "metadata": {},
     "output_type": "execute_result"
    }
   ],
   "source": [
    "res108 = greedysearch(X_cv_img.values[108])  # result after 20 epochs\n",
    "res108"
   ]
  },
  {
   "cell_type": "code",
   "execution_count": 139,
   "metadata": {},
   "outputs": [
    {
     "data": {
      "text/plain": [
       "'the heart size normal . the mediastinal contour within normal limits . the lungs are free any focal infiltrates . there are no nodules masses . no visible pneumothora . no visible pleural fluid . the are grossly normal . there no visible free intraperitoneal air under the diaphragm .'"
      ]
     },
     "execution_count": 139,
     "metadata": {},
     "output_type": "execute_result"
    }
   ],
   "source": [
    "res108 = greedysearch(X_cv_img.values[108])  # result after 30 epochs\n",
    "res108"
   ]
  },
  {
   "cell_type": "code",
   "execution_count": 150,
   "metadata": {},
   "outputs": [
    {
     "data": {
      "text/plain": [
       "'the heart size and mediastinal silhouette are within normal limits for contour . the lungs are clear . no pneumothora pleural effusions . the are intact .'"
      ]
     },
     "execution_count": 150,
     "metadata": {},
     "output_type": "execute_result"
    }
   ],
   "source": [
    "res108 = greedysearch(X_cv_img.values[108])  # result after 40 epochs\n",
    "res108"
   ]
  },
  {
   "cell_type": "code",
   "execution_count": 104,
   "metadata": {},
   "outputs": [
    {
     "data": {
      "text/plain": [
       "'startseq lungs are hyperinflated but clear . no focal infiltrate effusion . heart and mediastinal contours within normal limits . calcified mediastinal identified . endseq'"
      ]
     },
     "execution_count": 104,
     "metadata": {},
     "output_type": "execute_result"
    }
   ],
   "source": [
    "y_cv_rep.values[108] # original"
   ]
  },
  {
   "cell_type": "markdown",
   "metadata": {},
   "source": [
    "# Eg: 4"
   ]
  },
  {
   "cell_type": "code",
   "execution_count": 129,
   "metadata": {},
   "outputs": [
    {
     "data": {
      "text/plain": [
       "'the heart normal size . the mediastinum unremarkable . the lungs are clear .'"
      ]
     },
     "execution_count": 129,
     "metadata": {},
     "output_type": "execute_result"
    }
   ],
   "source": [
    "res37 = greedysearch(X_train_img.values[37])  # result after 20 epochs\n",
    "res37"
   ]
  },
  {
   "cell_type": "code",
   "execution_count": 140,
   "metadata": {},
   "outputs": [
    {
     "data": {
      "text/plain": [
       "'the heart normal size . the mediastinum unremarkable . the lungs are clear .'"
      ]
     },
     "execution_count": 140,
     "metadata": {},
     "output_type": "execute_result"
    }
   ],
   "source": [
    "res37 = greedysearch(X_train_img.values[37])  # result after 30 epochs\n",
    "res37"
   ]
  },
  {
   "cell_type": "code",
   "execution_count": 151,
   "metadata": {},
   "outputs": [
    {
     "data": {
      "text/plain": [
       "'the heart normal size . the mediastinum unremarkable . there no pleural effusion pneumothora focal airspace disease . there stable calcified granuloma within the left lower lobe . there are stable chronic degenerative changes the thoracic spine .'"
      ]
     },
     "execution_count": 151,
     "metadata": {},
     "output_type": "execute_result"
    }
   ],
   "source": [
    "res37 = greedysearch(X_train_img.values[37])  # result after 40 epochs\n",
    "res37"
   ]
  },
  {
   "cell_type": "code",
   "execution_count": 106,
   "metadata": {},
   "outputs": [
    {
     "data": {
      "text/plain": [
       "'startseq heart size normal . the lungs are clear . there are no focal air space consolidations . no pleural effusions pneumothoraces . aortic vascular calcifications . normal pulmonary vascularity . fracturedislocation the right shoulder . bone demineralization . scoliosis which possibly positional . endseq'"
      ]
     },
     "execution_count": 106,
     "metadata": {},
     "output_type": "execute_result"
    }
   ],
   "source": [
    "y_train_rep.values[37] # original"
   ]
  },
  {
   "cell_type": "markdown",
   "metadata": {},
   "source": [
    "# Eg: 5"
   ]
  },
  {
   "cell_type": "code",
   "execution_count": 130,
   "metadata": {},
   "outputs": [
    {
     "data": {
      "text/plain": [
       "'the heart normal size . the mediastinum unremarkable . the lungs are clear .'"
      ]
     },
     "execution_count": 130,
     "metadata": {},
     "output_type": "execute_result"
    }
   ],
   "source": [
    "res0 = greedysearch(X_train_img.values[0]) # result after 20 epochs\n",
    "res0"
   ]
  },
  {
   "cell_type": "code",
   "execution_count": 141,
   "metadata": {},
   "outputs": [
    {
     "data": {
      "text/plain": [
       "'the heart normal size . the mediastinum unremarkable . the lungs are clear .'"
      ]
     },
     "execution_count": 141,
     "metadata": {},
     "output_type": "execute_result"
    }
   ],
   "source": [
    "res0 = greedysearch(X_train_img.values[0]) # result after 30 epochs\n",
    "res0"
   ]
  },
  {
   "cell_type": "code",
   "execution_count": 152,
   "metadata": {},
   "outputs": [
    {
     "data": {
      "text/plain": [
       "'the heart normal size and contour . there no mediastinal widening . the lungs are clear bilaterally . no large pleural effusion pneumothora . the are intact .'"
      ]
     },
     "execution_count": 152,
     "metadata": {},
     "output_type": "execute_result"
    }
   ],
   "source": [
    "res0 = greedysearch(X_train_img.values[0]) # result after 40 epochs\n",
    "res0"
   ]
  },
  {
   "cell_type": "code",
   "execution_count": 109,
   "metadata": {},
   "outputs": [
    {
     "data": {
      "text/plain": [
       "'startseq there nodular density the left lung base . lungs are otherwise clear . the ct scan without contrast could performed for further evaluation . no pleural effusions pneumothoraces . heart and mediastinum normal size and contour . degenerative changes the thoracic spine . endseq'"
      ]
     },
     "execution_count": 109,
     "metadata": {},
     "output_type": "execute_result"
    }
   ],
   "source": [
    "y_train_rep.values[0] # original"
   ]
  },
  {
   "cell_type": "markdown",
   "metadata": {},
   "source": [
    "# Eg: 6"
   ]
  },
  {
   "cell_type": "code",
   "execution_count": 131,
   "metadata": {},
   "outputs": [
    {
     "data": {
      "text/plain": [
       "'the heart normal size . the mediastinum unremarkable . the lungs are clear .'"
      ]
     },
     "execution_count": 131,
     "metadata": {},
     "output_type": "execute_result"
    }
   ],
   "source": [
    "res45 = greedysearch(X_train_img.values[45]) # result after 20 epochs\n",
    "res45"
   ]
  },
  {
   "cell_type": "code",
   "execution_count": 142,
   "metadata": {},
   "outputs": [
    {
     "data": {
      "text/plain": [
       "'the heart size normal . the mediastinal contour within normal limits . the lungs are free any focal infiltrates . there are no nodules masses . no visible pneumothora . no visible pleural fluid . the are grossly normal . there no visible free intraperitoneal air under the diaphragm .'"
      ]
     },
     "execution_count": 142,
     "metadata": {},
     "output_type": "execute_result"
    }
   ],
   "source": [
    "res45 = greedysearch(X_train_img.values[45]) # result after 30 epoch\n",
    "res45"
   ]
  },
  {
   "cell_type": "code",
   "execution_count": 153,
   "metadata": {},
   "outputs": [
    {
     "data": {
      "text/plain": [
       "'the heart normal size and contour . there no mediastinal widening . no focal airspace disease . no large pleural effusion pneumothora . the are intact .'"
      ]
     },
     "execution_count": 153,
     "metadata": {},
     "output_type": "execute_result"
    }
   ],
   "source": [
    "res45 = greedysearch(X_train_img.values[45]) # result after 40 epoch\n",
    "res45"
   ]
  },
  {
   "cell_type": "code",
   "execution_count": 44,
   "metadata": {},
   "outputs": [
    {
     "data": {
      "text/plain": [
       "'startseq stable cardiomediastinal silhouette . elevated right hemidiaphragm . atelectasis the right lung base . no focal pulmonary consolidation pleural effusion pneumothora . no acute bony abnormality . degenerative changes the thoracic spine . endseq'"
      ]
     },
     "execution_count": 44,
     "metadata": {},
     "output_type": "execute_result"
    }
   ],
   "source": [
    "y_train_rep.values[45] # original"
   ]
  },
  {
   "cell_type": "markdown",
   "metadata": {},
   "source": [
    "# Eg: 7"
   ]
  },
  {
   "cell_type": "code",
   "execution_count": 132,
   "metadata": {},
   "outputs": [
    {
     "data": {
      "text/plain": [
       "'the heart and lungs have the interval . both lungs are clear and epanded . heart and mediastinum normal .'"
      ]
     },
     "execution_count": 132,
     "metadata": {},
     "output_type": "execute_result"
    }
   ],
   "source": [
    "res100 = greedysearch(X_train_img.values[100])# result after 20 epochs\n",
    "res100"
   ]
  },
  {
   "cell_type": "code",
   "execution_count": 143,
   "metadata": {},
   "outputs": [
    {
     "data": {
      "text/plain": [
       "'the heart size and pulmonary vascularity appear within normal limits . the lungs are free focal airspace disease . no pleural effusion pneumothora seen .'"
      ]
     },
     "execution_count": 143,
     "metadata": {},
     "output_type": "execute_result"
    }
   ],
   "source": [
    "res100 = greedysearch(X_train_img.values[100])# result after 30 epochs\n",
    "res100"
   ]
  },
  {
   "cell_type": "code",
   "execution_count": 154,
   "metadata": {},
   "outputs": [
    {
     "data": {
      "text/plain": [
       "'the heart normal size . the mediastinum unremarkable . the lungs are hypoinflated but grossly clear .'"
      ]
     },
     "execution_count": 154,
     "metadata": {},
     "output_type": "execute_result"
    }
   ],
   "source": [
    "res100 = greedysearch(X_train_img.values[100])# result after 40 epochs\n",
    "res100"
   ]
  },
  {
   "cell_type": "code",
   "execution_count": 46,
   "metadata": {},
   "outputs": [
    {
     "data": {
      "text/plain": [
       "'startseq heart size normal . lungs are clear . are normal . no pneumonia effusions edema pneumothora adenopathy nodules masses . endseq'"
      ]
     },
     "execution_count": 46,
     "metadata": {},
     "output_type": "execute_result"
    }
   ],
   "source": [
    "y_train_rep.values[100] # original"
   ]
  },
  {
   "cell_type": "markdown",
   "metadata": {},
   "source": [
    "# Eg: 8"
   ]
  },
  {
   "cell_type": "code",
   "execution_count": 133,
   "metadata": {},
   "outputs": [
    {
     "data": {
      "text/plain": [
       "'the heart and lungs have the interval . both lungs are clear and epanded . heart and mediastinum normal .'"
      ]
     },
     "execution_count": 133,
     "metadata": {},
     "output_type": "execute_result"
    }
   ],
   "source": [
    "res1234 = greedysearch(X_train_img.values[1234]) # result after 20 epochs\n",
    "res1234"
   ]
  },
  {
   "cell_type": "code",
   "execution_count": 144,
   "metadata": {},
   "outputs": [
    {
     "data": {
      "text/plain": [
       "'the heart size and pulmonary vascularity appear within normal limits . the lungs are free focal airspace disease . no pleural effusion pneumothora seen .'"
      ]
     },
     "execution_count": 144,
     "metadata": {},
     "output_type": "execute_result"
    }
   ],
   "source": [
    "res1234 = greedysearch(X_train_img.values[1234]) # result after 30 epochs\n",
    "res1234"
   ]
  },
  {
   "cell_type": "code",
   "execution_count": 155,
   "metadata": {},
   "outputs": [
    {
     "data": {
      "text/plain": [
       "'low lung volumes . question airspace disease identified . heart size within normal limits . no pneumothora pleural effusion . no acute osseous abnormality .'"
      ]
     },
     "execution_count": 155,
     "metadata": {},
     "output_type": "execute_result"
    }
   ],
   "source": [
    "res1234 = greedysearch(X_train_img.values[1234]) # result after 40 epochs\n",
    "res1234"
   ]
  },
  {
   "cell_type": "code",
   "execution_count": 49,
   "metadata": {},
   "outputs": [
    {
     "data": {
      "text/plain": [
       "'startseq the cardiomediastinal silhouette normal . the lungs are clear . there no pneumothora pneumomediastinum . visualized bony structures are normal . endseq'"
      ]
     },
     "execution_count": 49,
     "metadata": {},
     "output_type": "execute_result"
    }
   ],
   "source": [
    "y_train_rep.values[1234]  # original"
   ]
  },
  {
   "cell_type": "markdown",
   "metadata": {},
   "source": [
    "## BLEU SCORE"
   ]
  },
  {
   "cell_type": "code",
   "execution_count": 8,
   "metadata": {},
   "outputs": [],
   "source": [
    "def rem_fullstops(text):\n",
    "    '''Removes punctuations'''\n",
    "    punctuations = '''.''' # full stop is not removed\n",
    "    new_text = []\n",
    "    for char in text:\n",
    "        if char in punctuations: \n",
    "            text = text.replace(char, \"\")\n",
    "    new_text.append(' '.join(e for e in text.split()))\n",
    "    return new_text[0]"
   ]
  },
  {
   "cell_type": "markdown",
   "metadata": {},
   "source": [
    "# 35 epochs"
   ]
  },
  {
   "cell_type": "code",
   "execution_count": 74,
   "metadata": {
    "scrolled": true
   },
   "outputs": [],
   "source": [
    "#encoder_decoder.load_weights('Weights/BM7_new_model1_epoch_35.h5')"
   ]
  },
  {
   "cell_type": "code",
   "execution_count": 75,
   "metadata": {},
   "outputs": [
    {
     "name": "stderr",
     "output_type": "stream",
     "text": [
      "1147it [15:31,  1.23it/s]\n"
     ]
    }
   ],
   "source": [
    "bleu1 = []\n",
    "bleu2 = []\n",
    "bleu3 = []\n",
    "bleu4 = []\n",
    "for img, rep in tqdm(zip(X_cv_img.values, y_cv_rep.values)):\n",
    "    \n",
    "    rep = rem_fullstops(rep)\n",
    "    rep = rep.split()[1:]\n",
    "    rep = rep[:len(rep)-1]\n",
    "    rep = ' '.join(e for e in rep)\n",
    "    \n",
    "    pred_rep = greedysearch(img)\n",
    "    pred_rep = rem_fullstops(pred_rep)\n",
    "    \n",
    "    bleu1.append(sentence_bleu([rep.split()], pred_rep.split(), weights = (1,0,0,0)))\n",
    "    bleu2.append(sentence_bleu([rep.split()], pred_rep.split(), weights = (0.5,0.5,0,0)))\n",
    "    bleu3.append(sentence_bleu([rep.split()], pred_rep.split(), weights = (0.33,0.33,0.33,0)))\n",
    "    bleu4.append(sentence_bleu([rep.split()], pred_rep.split(), weights = (0.25,0.25,0.25,0.25)))"
   ]
  },
  {
   "cell_type": "code",
   "execution_count": 76,
   "metadata": {},
   "outputs": [
    {
     "name": "stdout",
     "output_type": "stream",
     "text": [
      "Bleu1 Score:  0.32310065402698124\n",
      "Bleu2 Score:  0.19833500401064233\n",
      "Bleu3 Score:  0.12312126770345183\n",
      "Bleu4 Score:  0.064104997138134\n"
     ]
    }
   ],
   "source": [
    "print('Bleu1 Score: ', sum(bleu1)/X_cv_img.shape[0])\n",
    "print('Bleu2 Score: ', sum(bleu2)/X_cv_img.shape[0])\n",
    "print('Bleu3 Score: ', sum(bleu3)/X_cv_img.shape[0])\n",
    "print('Bleu4 Score: ', sum(bleu4)/X_cv_img.shape[0])"
   ]
  }
 ],
 "metadata": {
  "kernelspec": {
   "display_name": "Python [conda env:py3-TF2.0] *",
   "language": "python",
   "name": "conda-env-py3-TF2.0-py"
  },
  "language_info": {
   "codemirror_mode": {
    "name": "ipython",
    "version": 3
   },
   "file_extension": ".py",
   "mimetype": "text/x-python",
   "name": "python",
   "nbconvert_exporter": "python",
   "pygments_lexer": "ipython3",
   "version": "3.7.6"
  }
 },
 "nbformat": 4,
 "nbformat_minor": 4
}
