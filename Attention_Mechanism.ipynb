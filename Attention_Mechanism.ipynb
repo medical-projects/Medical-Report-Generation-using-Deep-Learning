{
 "cells": [
  {
   "cell_type": "code",
   "execution_count": 1,
   "metadata": {
    "colab": {
     "base_uri": "https://localhost:8080/",
     "height": 70
    },
    "colab_type": "code",
    "id": "YkpPKIaaAivJ",
    "outputId": "1f65bfa1-874d-40f0-fc4c-0be39fa9f22c"
   },
   "outputs": [],
   "source": [
    "import numpy as np\n",
    "import pandas as pd\n",
    "import matplotlib.pyplot as plt\n",
    "import seaborn as sns\n",
    "import os\n",
    "from tqdm import tqdm\n",
    "import tensorflow as tf\n",
    "import cv2\n",
    "import pickle\n",
    "from tensorflow.keras.preprocessing.text import Tokenizer\n",
    "from tensorflow.keras.preprocessing.sequence import pad_sequences\n",
    "from sklearn.model_selection import train_test_split\n",
    "import time\n",
    "from tensorflow.keras.models import Model\n",
    "from tensorflow.keras.layers import Dense, LSTM, Input, Embedding, Conv2D,Concatenate,Flatten,Add,Dropout,GRU,AdditiveAttention\n",
    "import random\n",
    "import datetime\n",
    "from nltk.translate.bleu_score import sentence_bleu\n",
    "from math import log\n",
    "import warnings\n",
    "warnings.filterwarnings('ignore')"
   ]
  },
  {
   "cell_type": "code",
   "execution_count": 2,
   "metadata": {
    "colab": {
     "base_uri": "https://localhost:8080/",
     "height": 34
    },
    "colab_type": "code",
    "id": "I6vkZXWfAqXe",
    "outputId": "ddd73c08-b85d-4f35-d252-e19c0c0c4ce4"
   },
   "outputs": [
    {
     "name": "stdout",
     "output_type": "stream",
     "text": [
      "Drive already mounted at /content/drive; to attempt to forcibly remount, call drive.mount(\"/content/drive\", force_remount=True).\n"
     ]
    }
   ],
   "source": [
    "from google.colab import drive\n",
    "drive.mount('/content/drive')"
   ]
  },
  {
   "cell_type": "code",
   "execution_count": 2,
   "metadata": {
    "colab": {
     "base_uri": "https://localhost:8080/",
     "height": 195
    },
    "colab_type": "code",
    "id": "Xoc7ffVcA3DC",
    "outputId": "9bc4cb71-6579-4fbd-80e7-5847cc20dd84"
   },
   "outputs": [
    {
     "data": {
      "text/html": [
       "<div>\n",
       "<style scoped>\n",
       "    .dataframe tbody tr th:only-of-type {\n",
       "        vertical-align: middle;\n",
       "    }\n",
       "\n",
       "    .dataframe tbody tr th {\n",
       "        vertical-align: top;\n",
       "    }\n",
       "\n",
       "    .dataframe thead th {\n",
       "        text-align: right;\n",
       "    }\n",
       "</style>\n",
       "<table border=\"1\" class=\"dataframe\">\n",
       "  <thead>\n",
       "    <tr style=\"text-align: right;\">\n",
       "      <th></th>\n",
       "      <th>Person_id</th>\n",
       "      <th>Image1</th>\n",
       "      <th>Image2</th>\n",
       "      <th>Report</th>\n",
       "    </tr>\n",
       "  </thead>\n",
       "  <tbody>\n",
       "    <tr>\n",
       "      <th>0</th>\n",
       "      <td>Scanned Images/CXR1_1_IM-0001_0</td>\n",
       "      <td>Scanned Images/CXR1_1_IM-0001-3001.png</td>\n",
       "      <td>Scanned Images/CXR1_1_IM-0001-4001.png</td>\n",
       "      <td>startseq the cardiac silhouette and mediastinu...</td>\n",
       "    </tr>\n",
       "    <tr>\n",
       "      <th>1</th>\n",
       "      <td>Scanned Images/CXR10_IM-0002_0</td>\n",
       "      <td>Scanned Images/CXR10_IM-0002-1001.png</td>\n",
       "      <td>Scanned Images/CXR10_IM-0002-2001.png</td>\n",
       "      <td>startseq the cardiomediastinal silhouette with...</td>\n",
       "    </tr>\n",
       "    <tr>\n",
       "      <th>2</th>\n",
       "      <td>Scanned Images/CXR100_IM-0002_0</td>\n",
       "      <td>Scanned Images/CXR100_IM-0002-1001.png</td>\n",
       "      <td>Scanned Images/CXR100_IM-0002-2001.png</td>\n",
       "      <td>startseq both lungs are clear and epanded . he...</td>\n",
       "    </tr>\n",
       "    <tr>\n",
       "      <th>3</th>\n",
       "      <td>Scanned Images/CXR1000_IM-0003_0</td>\n",
       "      <td>Scanned Images/CXR1000_IM-0003-1001.png</td>\n",
       "      <td>Scanned Images/CXR1000_IM-0003-2001.png</td>\n",
       "      <td>startseq there increased opacity within the ri...</td>\n",
       "    </tr>\n",
       "    <tr>\n",
       "      <th>4</th>\n",
       "      <td>Scanned Images/CXR1000_IM-0003_1</td>\n",
       "      <td>Scanned Images/CXR1000_IM-0003-1001.png</td>\n",
       "      <td>Scanned Images/CXR1000_IM-0003-3001.png</td>\n",
       "      <td>startseq there increased opacity within the ri...</td>\n",
       "    </tr>\n",
       "  </tbody>\n",
       "</table>\n",
       "</div>"
      ],
      "text/plain": [
       "                          Person_id                                   Image1  \\\n",
       "0   Scanned Images/CXR1_1_IM-0001_0   Scanned Images/CXR1_1_IM-0001-3001.png   \n",
       "1    Scanned Images/CXR10_IM-0002_0    Scanned Images/CXR10_IM-0002-1001.png   \n",
       "2   Scanned Images/CXR100_IM-0002_0   Scanned Images/CXR100_IM-0002-1001.png   \n",
       "3  Scanned Images/CXR1000_IM-0003_0  Scanned Images/CXR1000_IM-0003-1001.png   \n",
       "4  Scanned Images/CXR1000_IM-0003_1  Scanned Images/CXR1000_IM-0003-1001.png   \n",
       "\n",
       "                                    Image2  \\\n",
       "0   Scanned Images/CXR1_1_IM-0001-4001.png   \n",
       "1    Scanned Images/CXR10_IM-0002-2001.png   \n",
       "2   Scanned Images/CXR100_IM-0002-2001.png   \n",
       "3  Scanned Images/CXR1000_IM-0003-2001.png   \n",
       "4  Scanned Images/CXR1000_IM-0003-3001.png   \n",
       "\n",
       "                                              Report  \n",
       "0  startseq the cardiac silhouette and mediastinu...  \n",
       "1  startseq the cardiomediastinal silhouette with...  \n",
       "2  startseq both lungs are clear and epanded . he...  \n",
       "3  startseq there increased opacity within the ri...  \n",
       "4  startseq there increased opacity within the ri...  "
      ]
     },
     "execution_count": 2,
     "metadata": {},
     "output_type": "execute_result"
    }
   ],
   "source": [
    "dataset = pd.read_csv('Data.csv')\n",
    "dataset.head()"
   ]
  },
  {
   "cell_type": "code",
   "execution_count": 3,
   "metadata": {
    "colab": {},
    "colab_type": "code",
    "id": "WsVCmgJkBGLE"
   },
   "outputs": [],
   "source": [
    "X_train_img, X_cv_img, y_train_rep, y_cv_rep = train_test_split(dataset['Person_id'], dataset['Report'],\n",
    "                                                                test_size = 0.3094146209873213, random_state=97)"
   ]
  },
  {
   "cell_type": "code",
   "execution_count": 4,
   "metadata": {
    "colab": {},
    "colab_type": "code",
    "id": "zxGo7gH0BHrr"
   },
   "outputs": [],
   "source": [
    "max_capt_len = 155\n",
    "pad_size = max_capt_len "
   ]
  },
  {
   "cell_type": "code",
   "execution_count": 5,
   "metadata": {
    "colab": {},
    "colab_type": "code",
    "id": "BzrvH_mHBJd2"
   },
   "outputs": [],
   "source": [
    "tokenizer = Tokenizer(filters='!\"#$%&()*+,-/:;<=>?@[\\\\]^_`{|}~\\t\\n')\n",
    "tokenizer.fit_on_texts(y_train_rep.values)\n",
    "\n",
    "train_rep_tok = tokenizer.texts_to_sequences(y_train_rep)\n",
    "cv_rep_tok = tokenizer.texts_to_sequences(y_cv_rep)\n",
    "\n",
    "train_rep_padded = pad_sequences(train_rep_tok, maxlen=155, padding='post')\n",
    "cv_rep_padded = pad_sequences(cv_rep_tok, maxlen=155, padding='post')\n",
    "\n",
    "tokenizer.word_index['<pad>'] = 0\n",
    "tokenizer.index_word[0] = '<pad>'"
   ]
  },
  {
   "cell_type": "code",
   "execution_count": 6,
   "metadata": {
    "colab": {},
    "colab_type": "code",
    "id": "4GWx0Nc2BKob"
   },
   "outputs": [],
   "source": [
    "f = open('Image_features_attention.pickle','rb') # contains the features from chexNet\n",
    "Xnet_Features = pickle.load(f)\n",
    "f.close()"
   ]
  },
  {
   "cell_type": "code",
   "execution_count": 7,
   "metadata": {
    "colab": {},
    "colab_type": "code",
    "id": "EBbADGa2BOxa"
   },
   "outputs": [],
   "source": [
    "f = open('GLOVE_VECTORS.pickle','rb') # 300d glove vectors  \n",
    "glove_vectors = pickle.load(f)\n",
    "f.close()"
   ]
  },
  {
   "cell_type": "code",
   "execution_count": 8,
   "metadata": {
    "colab": {
     "base_uri": "https://localhost:8080/",
     "height": 34
    },
    "colab_type": "code",
    "id": "K5G1rLkQfnCy",
    "outputId": "db2ba9d2-cf17-4308-e4e7-a669a18d82fb"
   },
   "outputs": [
    {
     "data": {
      "text/plain": [
       "TensorShape([98, 1024])"
      ]
     },
     "execution_count": 8,
     "metadata": {},
     "output_type": "execute_result"
    }
   ],
   "source": [
    "a = Xnet_Features['Scanned Images/CXR1_1_IM-0001_0'][0]\n",
    "a.shape"
   ]
  },
  {
   "cell_type": "code",
   "execution_count": 9,
   "metadata": {
    "colab": {},
    "colab_type": "code",
    "id": "aBG0QQYXBT2C"
   },
   "outputs": [],
   "source": [
    "BATCH_SIZE = 4\n",
    "BUFFER_SIZE = 500"
   ]
  },
  {
   "cell_type": "code",
   "execution_count": 10,
   "metadata": {
    "colab": {},
    "colab_type": "code",
    "id": "oCVoyzmcBa8H"
   },
   "outputs": [],
   "source": [
    "def load_image(id_, report):\n",
    "    '''Loads the Image Features with their corresponding Ids'''\n",
    "    img_feature = Xnet_Features[id_.decode('utf-8')][0]\n",
    "    return img_feature, report"
   ]
  },
  {
   "cell_type": "code",
   "execution_count": 11,
   "metadata": {
    "colab": {},
    "colab_type": "code",
    "id": "qreZ3JRgBbTp"
   },
   "outputs": [],
   "source": [
    "def create_dataset(img_name_train,reps):\n",
    "  \n",
    "    dataset = tf.data.Dataset.from_tensor_slices((img_name_train, reps))\n",
    "\n",
    "  # Use map to load the numpy files in parallel\n",
    "    dataset = dataset.map(lambda item1, item2: tf.numpy_function(load_image, [item1, item2], [tf.float32, tf.string]),\n",
    "                          num_parallel_calls=tf.data.experimental.AUTOTUNE)\n",
    "\n",
    "  # Shuffle and batch\n",
    "    dataset = dataset.shuffle(500).batch(BATCH_SIZE).prefetch(buffer_size=tf.data.experimental.AUTOTUNE)\n",
    "    return dataset"
   ]
  },
  {
   "cell_type": "code",
   "execution_count": 12,
   "metadata": {
    "colab": {},
    "colab_type": "code",
    "id": "bGBSKApzBcaC"
   },
   "outputs": [],
   "source": [
    "train_dataset = create_dataset(X_train_img.values, y_train_rep.values)\n",
    "cv_dataset = create_dataset(X_cv_img.values, y_cv_rep.values)"
   ]
  },
  {
   "cell_type": "code",
   "execution_count": 13,
   "metadata": {
    "colab": {},
    "colab_type": "code",
    "id": "OOXMqVEnQRBG"
   },
   "outputs": [],
   "source": [
    "def bytes_to_string(arr):\n",
    "    '''The generator gives provides data in bytes. This function converts them back to strings for manipulation'''\n",
    "    for i in range(len(arr)):\n",
    "        arr[i] = arr[i].decode('utf-8')\n",
    "    return arr\n",
    "\n",
    "def convert(images, reports):\n",
    "    '''This function takes the batch of data and converts them into a new dataset(A WORD BY WORD DATASET)'''\n",
    "    imgs = []\n",
    "    in_reports = []\n",
    "    out_reports = []\n",
    "    for i in range(len(images)):\n",
    "        sequence = [tokenizer.word_index[e] for e in reports[i].split() if e in tokenizer.word_index.keys()]\n",
    "        for j in range(1,len(sequence)):\n",
    "            \n",
    "            in_seq = sequence[:j]\n",
    "            #in_seq = pad_sequences([in_seq], 155, padding='post')\n",
    "            out_seq = sequence[j]\n",
    "            out_seq = tf.keras.utils.to_categorical(out_seq, num_classes=vocab_size)\n",
    "\n",
    "            imgs.append(images[i])\n",
    "          #  print(in_seq)\n",
    "            in_reports.append(in_seq)\n",
    "           # print(out_seq)\n",
    "            out_reports.append(out_seq)\n",
    "        \n",
    "    return np.array(imgs), np.array(in_reports), np.array(out_reports)"
   ]
  },
  {
   "cell_type": "code",
   "execution_count": 14,
   "metadata": {
    "colab": {},
    "colab_type": "code",
    "id": "crp6HUJBgAsR"
   },
   "outputs": [],
   "source": [
    "vocab_size = len(tokenizer.word_index.keys()) + 1\n",
    "embedding_matrix = np.zeros((vocab_size,300))\n",
    "for word, i in tokenizer.word_index.items():\n",
    "    if word in glove_vectors.keys():\n",
    "        vec = glove_vectors[word]\n",
    "        embedding_matrix[i] = vec\n",
    "    else:\n",
    "        continue"
   ]
  },
  {
   "cell_type": "code",
   "execution_count": 22,
   "metadata": {
    "colab": {},
    "colab_type": "code",
    "id": "hXzr4yKyQo8F"
   },
   "outputs": [],
   "source": [
    "current_time = datetime.datetime.now().strftime(\"%Y%m%d-%H%M%S\")\n",
    "train_log_dir = '/content/drive/My Drive/Tensorboard/attention_functional/fit6/' + current_time + '/train'\n",
    "val_log_dir = '/content/drive/My Drive/Tensorboard/attention_functional/fit6/' + current_time + '/test'\n",
    "train_summary_writer = tf.summary.create_file_writer(train_log_dir)\n",
    "val_summary_writer = tf.summary.create_file_writer(val_log_dir)"
   ]
  },
  {
   "cell_type": "markdown",
   "metadata": {},
   "source": [
    "# Model"
   ]
  },
  {
   "cell_type": "code",
   "execution_count": 15,
   "metadata": {
    "colab": {
     "base_uri": "https://localhost:8080/",
     "height": 790
    },
    "colab_type": "code",
    "id": "zuUlQ8ls3M_T",
    "outputId": "42b551a6-3974-4f45-a10e-592bdde3641e"
   },
   "outputs": [
    {
     "name": "stdout",
     "output_type": "stream",
     "text": [
      "maxpool: (None, 49, 1024)\n",
      "dense1: (None, 49, 256)\n",
      "Attention: (None, 49, 256)\n",
      "dense_glob: (None, 256)\n",
      "att_glob: (None, 256)\n",
      "(None, 512)\n",
      "Model: \"model\"\n",
      "__________________________________________________________________________________________________\n",
      "Layer (type)                    Output Shape         Param #     Connected to                     \n",
      "==================================================================================================\n",
      "Text_Input (InputLayer)         [(None, 155)]        0                                            \n",
      "__________________________________________________________________________________________________\n",
      "Embedding_layer (Embedding)     (None, 155, 300)     421800      Text_Input[0][0]                 \n",
      "__________________________________________________________________________________________________\n",
      "Image_1 (InputLayer)            [(None, 98, 1024)]   0                                            \n",
      "__________________________________________________________________________________________________\n",
      "LSTM1 (LSTM)                    [(None, 155, 256), ( 570368      Embedding_layer[0][0]            \n",
      "__________________________________________________________________________________________________\n",
      "max_pooling1d (MaxPooling1D)    (None, 49, 1024)     0           Image_1[0][0]                    \n",
      "__________________________________________________________________________________________________\n",
      "LSTM2 (LSTM)                    [(None, 155, 256), ( 525312      LSTM1[0][0]                      \n",
      "__________________________________________________________________________________________________\n",
      "dense_encoder (Dense)           (None, 49, 256)      262400      max_pooling1d[0][0]              \n",
      "__________________________________________________________________________________________________\n",
      "dropout (Dropout)               (None, 155, 256)     0           LSTM2[0][0]                      \n",
      "__________________________________________________________________________________________________\n",
      "Attention (AdditiveAttention)   (None, 49, 256)      256         dense_encoder[0][0]              \n",
      "                                                                 dropout[0][0]                    \n",
      "__________________________________________________________________________________________________\n",
      "global_average_pooling1d (Globa (None, 256)          0           dense_encoder[0][0]              \n",
      "__________________________________________________________________________________________________\n",
      "global_average_pooling1d_1 (Glo (None, 256)          0           Attention[0][0]                  \n",
      "__________________________________________________________________________________________________\n",
      "concatenate (Concatenate)       (None, 512)          0           global_average_pooling1d[0][0]   \n",
      "                                                                 global_average_pooling1d_1[0][0] \n",
      "__________________________________________________________________________________________________\n",
      "dropout_1 (Dropout)             (None, 512)          0           concatenate[0][0]                \n",
      "__________________________________________________________________________________________________\n",
      "fc1 (Dense)                     (None, 256)          131328      dropout_1[0][0]                  \n",
      "__________________________________________________________________________________________________\n",
      "Output_Layer (Dense)            (None, 1406)         361342      fc1[0][0]                        \n",
      "==================================================================================================\n",
      "Total params: 2,272,806\n",
      "Trainable params: 1,851,006\n",
      "Non-trainable params: 421,800\n",
      "__________________________________________________________________________________________________\n"
     ]
    }
   ],
   "source": [
    "input1 = Input(shape=(98,1024), name='Image_1')\n",
    "maxpool1 = tf.keras.layers.MaxPool1D()(input1)\n",
    "print('maxpool:',maxpool1.shape)\n",
    "dense1 = Dense(256, kernel_initializer=tf.keras.initializers.glorot_uniform(seed = 56), name='dense_encoder')(maxpool1)\n",
    "print('dense1:',dense1.shape)\n",
    "\n",
    "input2 = Input(shape=(155), name='Text_Input')\n",
    "emb_layer = Embedding(input_dim = vocab_size, output_dim = 300, input_length=155, mask_zero=True, trainable=False, \n",
    "                      weights=[embedding_matrix], name=\"Embedding_layer\")\n",
    "emb = emb_layer(input2)\n",
    "\n",
    "LSTM1 = LSTM(units=256, activation='tanh', recurrent_activation='sigmoid', use_bias=True, \n",
    "            kernel_initializer=tf.keras.initializers.glorot_uniform(seed=23),\n",
    "            recurrent_initializer=tf.keras.initializers.orthogonal(seed=7),\n",
    "            bias_initializer=tf.keras.initializers.zeros(), return_sequences=True, return_state=True, name=\"LSTM1\")\n",
    "lstm_output, h_state, c_state = LSTM1(emb)\n",
    "\n",
    "LSTM2 = LSTM(units=256, activation='tanh', recurrent_activation='sigmoid', use_bias=True, \n",
    "            kernel_initializer=tf.keras.initializers.glorot_uniform(seed=23),\n",
    "            recurrent_initializer=tf.keras.initializers.orthogonal(seed=7),\n",
    "            bias_initializer=tf.keras.initializers.zeros(), return_sequences=True, return_state=True, name=\"LSTM2\")\n",
    "\n",
    "lstm_output, h_state, c_state = LSTM2(lstm_output)\n",
    "\n",
    "dropout1 = Dropout(0.5)(lstm_output)\n",
    "\n",
    "attention_layer = AdditiveAttention(name='Attention')\n",
    "attention_output = attention_layer([dense1, dropout1], training=True)\n",
    "print('Attention:', attention_output.shape)\n",
    "\n",
    "dense_glob = tf.keras.layers.GlobalAveragePooling1D()(dense1)\n",
    "att_glob = tf.keras.layers.GlobalAveragePooling1D()(attention_output)\n",
    "\n",
    "print('dense_glob:', dense_glob.shape)\n",
    "print('att_glob:', att_glob.shape)\n",
    "\n",
    "concat = Concatenate()([dense_glob, att_glob])\n",
    "print(concat.shape)\n",
    "dropout2 = Dropout(0.5)(concat)\n",
    "FC1 = Dense(256, activation='relu', kernel_initializer=tf.keras.initializers.he_normal(seed = 56), name='fc1')\n",
    "fc1 = FC1(dropout2)\n",
    "\n",
    "OUTPUT_LAYER = Dense(vocab_size, activation='softmax', name='Output_Layer')\n",
    "output = OUTPUT_LAYER(fc1)\n",
    "\n",
    "attention_model = Model(inputs=[input1, input2], outputs = output)\n",
    "attention_model.summary()"
   ]
  },
  {
   "cell_type": "code",
   "execution_count": 16,
   "metadata": {
    "colab": {
     "base_uri": "https://localhost:8080/",
     "height": 1000
    },
    "colab_type": "code",
    "id": "yK8Cyc6E7qOv",
    "outputId": "1d6f4ce0-fe22-4b25-b262-b45241408be3"
   },
   "outputs": [
    {
     "data": {
      "image/png": "[encoded data removed]",
      "text/plain": [
       "<IPython.core.display.Image object>"
      ]
     },
     "execution_count": 16,
     "metadata": {},
     "output_type": "execute_result"
    }
   ],
   "source": [
    "tf.keras.utils.plot_model(attention_model)"
   ]
  },
  {
   "cell_type": "code",
   "execution_count": 23,
   "metadata": {
    "colab": {},
    "colab_type": "code",
    "id": "9Cle66ZARUYD"
   },
   "outputs": [],
   "source": [
    "optimizer = tf.keras.optimizers.Adam(0.0001)\n",
    "loss_function = tf.keras.losses.CategoricalCrossentropy(from_logits=False, reduction='auto')\n",
    "\n",
    "def maskedLoss(y_true, y_pred):\n",
    "    #getting mask value\n",
    "    mask = tf.math.logical_not(tf.math.equal(y_true, 0))\n",
    "    \n",
    "    #calculating the loss\n",
    "    loss_ = loss_function(y_true, y_pred)\n",
    "    \n",
    "    #converting mask dtype to loss_ dtype\n",
    "    mask = tf.cast(mask, dtype=loss_.dtype)\n",
    "    \n",
    "    #applying the mask to loss\n",
    "    loss_ = loss_*mask\n",
    "    \n",
    "    #getting mean over all the values\n",
    "    loss_ = tf.reduce_mean(loss_)\n",
    "    return loss_"
   ]
  },
  {
   "cell_type": "code",
   "execution_count": 24,
   "metadata": {
    "colab": {},
    "colab_type": "code",
    "id": "Eu5Av8YBgai_"
   },
   "outputs": [],
   "source": [
    "attention_model.compile(optimizer, loss = maskedLoss)"
   ]
  },
  {
   "cell_type": "code",
   "execution_count": 83,
   "metadata": {
    "colab": {
     "base_uri": "https://localhost:8080/",
     "height": 1000
    },
    "colab_type": "code",
    "id": "GyY99og1gcub",
    "outputId": "f65e6539-1bb9-4b44-ab21-7d15a81127a9"
   },
   "outputs": [
    {
     "name": "stdout",
     "output_type": "stream",
     "text": [
      "EPOCH :  1\n",
      "200 Batches Trained\n",
      "400 Batches Trained\n",
      "600 Batches Trained\n",
      "Validating...\n",
      "Training Loss: 0.025070090017470646,  Val Loss: 0.023954551998717984\n",
      "Time Taken for this Epoch : 308.9692950248718 sec\n",
      "EPOCH :  2\n",
      "200 Batches Trained\n",
      "400 Batches Trained\n",
      "600 Batches Trained\n",
      "Validating...\n",
      "Training Loss: 0.022644969632892753,  Val Loss: 0.021828973475335675\n",
      "Time Taken for this Epoch : 225.27554297447205 sec\n",
      "EPOCH :  3\n",
      "200 Batches Trained\n",
      "400 Batches Trained\n",
      "600 Batches Trained\n",
      "Validating...\n",
      "Training Loss: 0.020832611777404964,  Val Loss: 0.019952438414337803\n",
      "Time Taken for this Epoch : 223.2683916091919 sec\n",
      "EPOCH :  4\n",
      "200 Batches Trained\n",
      "400 Batches Trained\n",
      "600 Batches Trained\n",
      "Validating...\n",
      "Training Loss: 0.01927062616678086,  Val Loss: 0.01869068162310608\n",
      "Time Taken for this Epoch : 223.7688751220703 sec\n",
      "EPOCH :  5\n",
      "200 Batches Trained\n",
      "400 Batches Trained\n",
      "600 Batches Trained\n",
      "Validating...\n",
      "Training Loss: 0.01815619352964859,  Val Loss: 0.017119640475090177\n",
      "Time Taken for this Epoch : 221.99103260040283 sec\n",
      "EPOCH :  6\n",
      "200 Batches Trained\n",
      "400 Batches Trained\n",
      "600 Batches Trained\n",
      "Validating...\n",
      "Training Loss: 0.017322702175624725,  Val Loss: 0.016638460326687452\n",
      "Time Taken for this Epoch : 221.43167400360107 sec\n",
      "EPOCH :  7\n",
      "200 Batches Trained\n",
      "400 Batches Trained\n",
      "600 Batches Trained\n",
      "Validating...\n",
      "Training Loss: 0.01664288887695875,  Val Loss: 0.015884165580150787\n",
      "Time Taken for this Epoch : 221.5698115825653 sec\n",
      "EPOCH :  8\n",
      "200 Batches Trained\n",
      "400 Batches Trained\n",
      "600 Batches Trained\n",
      "Validating...\n",
      "Training Loss: 0.016015566183523334,  Val Loss: 0.015376212201130062\n",
      "Time Taken for this Epoch : 223.86683535575867 sec\n",
      "EPOCH :  9\n",
      "200 Batches Trained\n",
      "400 Batches Trained\n",
      "600 Batches Trained\n",
      "Validating...\n",
      "Training Loss: 0.01553562134022286,  Val Loss: 0.015214132433643213\n",
      "Time Taken for this Epoch : 229.95620727539062 sec\n",
      "EPOCH :  10\n",
      "200 Batches Trained\n",
      "400 Batches Trained\n",
      "600 Batches Trained\n",
      "Validating...\n",
      "Training Loss: 0.015062102154115565,  Val Loss: 0.014661301427559075\n",
      "Time Taken for this Epoch : 227.59165406227112 sec\n",
      "EPOCH :  11\n",
      "200 Batches Trained\n",
      "400 Batches Trained\n",
      "600 Batches Trained\n",
      "Validating...\n",
      "Training Loss: 0.014694030093369292,  Val Loss: 0.01418596496064724\n",
      "Time Taken for this Epoch : 229.22782635688782 sec\n",
      "EPOCH :  12\n",
      "200 Batches Trained\n",
      "400 Batches Trained\n",
      "600 Batches Trained\n",
      "Validating...\n",
      "Training Loss: 0.01431060376867208,  Val Loss: 0.013830043153906114\n",
      "Time Taken for this Epoch : 229.79009556770325 sec\n",
      "EPOCH :  13\n",
      "200 Batches Trained\n",
      "400 Batches Trained\n",
      "600 Batches Trained\n",
      "Validating...\n",
      "Training Loss: 0.013943396053537071,  Val Loss: 0.013643484475832739\n",
      "Time Taken for this Epoch : 228.35347199440002 sec\n",
      "EPOCH :  14\n",
      "200 Batches Trained\n",
      "400 Batches Trained\n",
      "600 Batches Trained\n",
      "Validating...\n",
      "Training Loss: 0.013635154025655538,  Val Loss: 0.01352610880982414\n",
      "Time Taken for this Epoch : 228.60860919952393 sec\n",
      "EPOCH :  15\n",
      "200 Batches Trained\n",
      "400 Batches Trained\n",
      "600 Batches Trained\n",
      "Validating...\n",
      "Training Loss: 0.01333041616603623,  Val Loss: 0.013149240804529647\n",
      "Time Taken for this Epoch : 229.16313934326172 sec\n",
      "EPOCH :  16\n",
      "200 Batches Trained\n",
      "400 Batches Trained\n",
      "600 Batches Trained\n",
      "Validating...\n",
      "Training Loss: 0.013060730654979124,  Val Loss: 0.013120669563078254\n",
      "Time Taken for this Epoch : 228.6556396484375 sec\n",
      "EPOCH :  17\n",
      "200 Batches Trained\n",
      "400 Batches Trained\n",
      "600 Batches Trained\n",
      "Validating...\n",
      "Training Loss: 0.012797663053038377,  Val Loss: 0.012747298297329832\n",
      "Time Taken for this Epoch : 227.7700002193451 sec\n",
      "EPOCH :  18\n",
      "200 Batches Trained\n",
      "400 Batches Trained\n",
      "600 Batches Trained\n",
      "Validating...\n",
      "Training Loss: 0.012530584178716709,  Val Loss: 0.01263253626245126\n",
      "Time Taken for this Epoch : 227.5710790157318 sec\n",
      "EPOCH :  19\n",
      "200 Batches Trained\n",
      "400 Batches Trained\n",
      "600 Batches Trained\n",
      "Validating...\n",
      "Training Loss: 0.012296969881231235,  Val Loss: 0.012544798313950839\n",
      "Time Taken for this Epoch : 228.00665140151978 sec\n",
      "EPOCH :  20\n",
      "200 Batches Trained\n",
      "400 Batches Trained\n",
      "600 Batches Trained\n",
      "Validating...\n",
      "Training Loss: 0.01219379337569535,  Val Loss: 0.012300707559788989\n",
      "Time Taken for this Epoch : 228.20011186599731 sec\n"
     ]
    }
   ],
   "source": [
    "epoch_train_loss = []\n",
    "epoch_val_loss = []\n",
    "\n",
    "for epoch in range(20):\n",
    "    print('EPOCH : ',epoch+1)\n",
    "    start = time.time()\n",
    "    batch_loss_tr = 0\n",
    "    batch_loss_vl = 0\n",
    "    batches = 16\n",
    "    b = 1\n",
    "    for img, report in train_dataset:\n",
    "        if b%200 == 0:\n",
    "            print(\"{} Batches Trained\".format(b))\n",
    "        r1 = bytes_to_string(report.numpy())\n",
    "        img_input, rep_input, output_word = convert(img.numpy(), r1)\n",
    "        rep_input = pad_sequences(rep_input, maxlen=155, padding='post')\n",
    "        \n",
    "        steps = len(img_input)//batches\n",
    "        for s in range(steps):\n",
    "            if s == steps-1:\n",
    "                \n",
    "                results = attention_model.train_on_batch([img_input[batches*s:],rep_input[batches*s:]], output_word[batches*s:])\n",
    "                batch_loss_tr += results\n",
    "            else:\n",
    "                \n",
    "                results = attention_model.train_on_batch([img_input[batches*s:batches*(s+1)],rep_input[batches*s:batches*(s+1)]],\n",
    "                                                         output_word[batches*s:batches*(s+1)])\n",
    "                batch_loss_tr += results\n",
    "        b += 1\n",
    "\n",
    "    train_loss = batch_loss_tr/(X_train_img.shape[0]//BATCH_SIZE)\n",
    " #   print('Saving Tensorboard')\n",
    "    with train_summary_writer.as_default():\n",
    "        tf.summary.scalar('loss', train_loss, step = epoch)\n",
    "    print('Validating...')\n",
    "    for img, report in cv_dataset:\n",
    "        \n",
    "        r1 = bytes_to_string(report.numpy())\n",
    "        img_input, rep_input, output_word = convert(img.numpy(), r1)\n",
    "        rep_input = pad_sequences(rep_input, maxlen=155, padding='post')\n",
    "        steps = len(img_input)//batches\n",
    "        for s in range(steps):\n",
    "            if s == steps-1:\n",
    "                results = attention_model.test_on_batch([img_input[batches*s:],rep_input[batches*s:]], output_word[batches*s:])\n",
    "                batch_loss_vl += results\n",
    "            else:\n",
    "                results = attention_model.test_on_batch([img_input[batches*s:batches*(s+1)],rep_input[batches*s:batches*(s+1)]],\n",
    "                                                     output_word[batches*s:batches*(s+1)])\n",
    "                batch_loss_vl += results\n",
    "    \n",
    "    \n",
    "       # results = attention_model.test_on_batch([img_input, rep_input], output_word)\n",
    "       # batch_loss_vl += results\n",
    "    \n",
    "    val_loss = batch_loss_vl/(X_cv_img.shape[0]//BATCH_SIZE)\n",
    "    \n",
    "    with val_summary_writer.as_default():\n",
    "        tf.summary.scalar('loss', val_loss, step = epoch)\n",
    "\n",
    "    epoch_train_loss.append(train_loss)\n",
    "\n",
    "    epoch_val_loss.append(val_loss)\n",
    "    \n",
    "    print('Training Loss: {},  Val Loss: {}'.format(train_loss, val_loss))\n",
    "    print('Time Taken for this Epoch : {} sec'.format(time.time()-start))   \n",
    "    attention_model.save_weights('/content/drive/My Drive/Weights_Attention/Functional/model4_epoch_'+ str(epoch+1) + '.h5')"
   ]
  },
  {
   "cell_type": "code",
   "execution_count": 17,
   "metadata": {
    "colab": {},
    "colab_type": "code",
    "id": "DS5hSmA3qjvv"
   },
   "outputs": [],
   "source": [
    "attention_model.load_weights('model4_epoch_20.h5')"
   ]
  },
  {
   "cell_type": "markdown",
   "metadata": {},
   "source": [
    "# Inference Set-Up"
   ]
  },
  {
   "cell_type": "code",
   "execution_count": 18,
   "metadata": {
    "colab": {},
    "colab_type": "code",
    "id": "rDojnLs128p6"
   },
   "outputs": [],
   "source": [
    "# encoder\n",
    "encoder_input = attention_model.input[0]\n",
    "encoder_output = attention_model.get_layer('dense_encoder').output\n",
    "encoder_model = Model(encoder_input, encoder_output)\n",
    "\n",
    "# decoder with attention\n",
    "text_input = attention_model.input[1]\n",
    "cnn_input = Input(shape=(49,256))\n",
    "lstm, h_s, c_s = attention_model.get_layer('LSTM2').output\n",
    "att = attention_layer([cnn_input, lstm])\n",
    "d_g = tf.keras.layers.GlobalAveragePooling1D()(cnn_input)\n",
    "a_g = tf.keras.layers.GlobalAveragePooling1D()(att)\n",
    "con = Concatenate()([d_g, a_g])\n",
    "fc_1 = FC1(con)\n",
    "out = OUTPUT_LAYER(fc_1)\n",
    "decoder_model = Model([cnn_input, text_input], out)"
   ]
  },
  {
   "cell_type": "markdown",
   "metadata": {},
   "source": [
    "# Greedy Search"
   ]
  },
  {
   "cell_type": "code",
   "execution_count": 69,
   "metadata": {
    "colab": {},
    "colab_type": "code",
    "id": "ISniUylzJBBl"
   },
   "outputs": [],
   "source": [
    "def greedysearch(img):\n",
    "    image = Xnet_Features[img]\n",
    "    input_ = 'startseq'\n",
    "    image_features = encoder_model.predict(image)\n",
    "    \n",
    "    result = []\n",
    "    for i in range(155):\n",
    "\n",
    "        input_tok = [tokenizer.word_index[w] for w in input_.split()]\n",
    "        input_padded = pad_sequences([input_tok], 155, padding='post')\n",
    "        predictions = decoder_model.predict([image_features, input_padded])\n",
    "        arg = np.argmax(predictions)\n",
    "        if arg != 7:   # endseq\n",
    "            result.append(tokenizer.index_word[arg])\n",
    "            input_ = input_ + ' ' + tokenizer.index_word[arg]\n",
    "        else:\n",
    "            break\n",
    "    rep = ' '.join(e for e in result)\n",
    "    return rep"
   ]
  },
  {
   "cell_type": "code",
   "execution_count": 20,
   "metadata": {
    "colab": {},
    "colab_type": "code",
    "id": "3yRkuFlV5X6d"
   },
   "outputs": [],
   "source": [
    "def rem_fullstops(text):\n",
    "    '''Removes full stops from sentences'''\n",
    "    punctuations = '''.''' # full stop is not removed\n",
    "    new_text = []\n",
    "    for char in text:\n",
    "        if char in punctuations: \n",
    "            text = text.replace(char, \"\")\n",
    "    new_text.append(' '.join(e for e in text.split()))\n",
    "    return new_text[0]"
   ]
  },
  {
   "cell_type": "markdown",
   "metadata": {},
   "source": [
    "## BLEU Greedy Search"
   ]
  },
  {
   "cell_type": "code",
   "execution_count": 50,
   "metadata": {
    "colab": {
     "base_uri": "https://localhost:8080/",
     "height": 34
    },
    "colab_type": "code",
    "id": "XkXm1Y-l5QCh",
    "outputId": "4d632158-f327-404a-820b-5b876a260089"
   },
   "outputs": [
    {
     "name": "stderr",
     "output_type": "stream",
     "text": [
      "1147it [13:13,  1.45it/s]\n"
     ]
    }
   ],
   "source": [
    "bleu1 = []\n",
    "bleu2 = []\n",
    "bleu3 = []\n",
    "bleu4 = []\n",
    "for img, rep in tqdm(zip(X_cv_img.values, y_cv_rep.values)):\n",
    "    \n",
    "    rep = rem_fullstops(rep)    # excludes full stops from the evaluation\n",
    "    rep = rep.split()[1:]       # removes 'startseq' tag from the original rep\n",
    "    rep = rep[:len(rep)-1]      # removes 'endseq' tag from the original rep\n",
    "    rep = ' '.join(e for e in rep)\n",
    "    \n",
    "    pred_rep = greedysearch(img)\n",
    "    pred_rep = rem_fullstops(pred_rep)\n",
    "    \n",
    "    bleu1.append(sentence_bleu([rep.split()], pred_rep.split(), weights = (1,0,0,0)))\n",
    "    bleu2.append(sentence_bleu([rep.split()], pred_rep.split(), weights = (0.5,0.5,0,0)))\n",
    "    bleu3.append(sentence_bleu([rep.split()], pred_rep.split(), weights = (0.33,0.33,0.33,0)))\n",
    "    bleu4.append(sentence_bleu([rep.split()], pred_rep.split(), weights = (0.25,0.25,0.25,0.25)))"
   ]
  },
  {
   "cell_type": "code",
   "execution_count": 98,
   "metadata": {},
   "outputs": [
    {
     "name": "stdout",
     "output_type": "stream",
     "text": [
      "Bleu1 Score:  0.34468440288076146\n",
      "Bleu2 Score:  0.22739539087897073\n",
      "Bleu3 Score:  0.14698311856534535\n",
      "Bleu4 Score:  0.08211448066444775\n"
     ]
    }
   ],
   "source": [
    "# epoch 20 \n",
    "print('Bleu1 Score: ', sum(bleu1)/X_cv_img.shape[0])\n",
    "print('Bleu2 Score: ', sum(bleu2)/X_cv_img.shape[0])\n",
    "print('Bleu3 Score: ', sum(bleu3)/X_cv_img.shape[0])\n",
    "print('Bleu4 Score: ', sum(bleu4)/X_cv_img.shape[0])"
   ]
  },
  {
   "cell_type": "markdown",
   "metadata": {
    "colab_type": "text",
    "id": "FLfQEw0I4q28"
   },
   "source": [
    "# Example 1"
   ]
  },
  {
   "cell_type": "code",
   "execution_count": 21,
   "metadata": {
    "colab": {
     "base_uri": "https://localhost:8080/",
     "height": 35
    },
    "colab_type": "code",
    "id": "4o9uJJOqJUy2",
    "outputId": "ed31c667-1db5-42de-a387-b19427ce44c6"
   },
   "outputs": [
    {
     "data": {
      "text/plain": [
       "'the heart size and mediastinal contours are within normal limits . the lungs are clear . there no pneumothora pleural effusion .'"
      ]
     },
     "execution_count": 21,
     "metadata": {},
     "output_type": "execute_result"
    }
   ],
   "source": [
    "res0 = greedysearch(X_cv_img.values[0]) # 20 epochs\n",
    "res0"
   ]
  },
  {
   "cell_type": "code",
   "execution_count": 49,
   "metadata": {
    "colab": {
     "base_uri": "https://localhost:8080/",
     "height": 35
    },
    "colab_type": "code",
    "id": "7fKmNneT43Nx",
    "outputId": "48bca3f6-0a63-454a-957a-3f24b5e54025"
   },
   "outputs": [
    {
     "data": {
      "application/vnd.google.colaboratory.intrinsic+json": {
       "type": "string"
      },
      "text/plain": [
       "'startseq mild cardiomegaly . lungs are clear . calcified hilar no pleural effusion pneumothora . soft tissues and showed unremarkable . endseq'"
      ]
     },
     "execution_count": 49,
     "metadata": {
      "tags": []
     },
     "output_type": "execute_result"
    }
   ],
   "source": [
    "res0_orig = y_cv_rep.values[0] # original\n",
    "res0_orig"
   ]
  },
  {
   "cell_type": "markdown",
   "metadata": {
    "colab_type": "text",
    "id": "lPJB6nrM6LtP"
   },
   "source": [
    "# Example 2"
   ]
  },
  {
   "cell_type": "code",
   "execution_count": 22,
   "metadata": {
    "colab": {
     "base_uri": "https://localhost:8080/",
     "height": 35
    },
    "colab_type": "code",
    "id": "ii_JC_jyLOeR",
    "outputId": "c7bb65bf-fd30-4d01-d503-d7314c02bce4"
   },
   "outputs": [
    {
     "data": {
      "text/plain": [
       "'the heart size and mediastinal contours are within normal limits . the lungs are clear . there no pneumothora pleural effusion . there are no acute bony findings .'"
      ]
     },
     "execution_count": 22,
     "metadata": {},
     "output_type": "execute_result"
    }
   ],
   "source": [
    "res36 = greedysearch(X_cv_img.values[36]) # 20 epochs\n",
    "res36"
   ]
  },
  {
   "cell_type": "code",
   "execution_count": 56,
   "metadata": {
    "colab": {
     "base_uri": "https://localhost:8080/",
     "height": 35
    },
    "colab_type": "code",
    "id": "03mjW1qn5ZkM",
    "outputId": "8e7e3cc8-e32d-47bf-8b69-d9fd007fc0f4"
   },
   "outputs": [
    {
     "data": {
      "application/vnd.google.colaboratory.intrinsic+json": {
       "type": "string"
      },
      "text/plain": [
       "'startseq heart size and pulmonary vascularity within normal limits . no focal infiltrate pneumothora pleural effusion identified . endseq'"
      ]
     },
     "execution_count": 56,
     "metadata": {
      "tags": []
     },
     "output_type": "execute_result"
    }
   ],
   "source": [
    "res36_orig = y_cv_rep.values[36] # original\n",
    "res36_orig"
   ]
  },
  {
   "cell_type": "markdown",
   "metadata": {
    "colab_type": "text",
    "id": "rm2cINPA6aye"
   },
   "source": [
    "# Example 3"
   ]
  },
  {
   "cell_type": "code",
   "execution_count": 23,
   "metadata": {
    "colab": {
     "base_uri": "https://localhost:8080/",
     "height": 35
    },
    "colab_type": "code",
    "id": "OvgMqD3Nlwx7",
    "outputId": "990912a4-2472-4811-a0bb-aa5b1d9255b6"
   },
   "outputs": [
    {
     "data": {
      "text/plain": [
       "'the heart size and pulmonary vascularity appear within normal limits . the lungs are free focal airspace disease . no pleural effusion pneumothora seen .'"
      ]
     },
     "execution_count": 23,
     "metadata": {},
     "output_type": "execute_result"
    }
   ],
   "source": [
    "res114 = greedysearch(X_cv_img.values[937])  # 20 epochs\n",
    "res114"
   ]
  },
  {
   "cell_type": "code",
   "execution_count": 36,
   "metadata": {
    "colab": {
     "base_uri": "https://localhost:8080/",
     "height": 35
    },
    "colab_type": "code",
    "id": "kiJzNqDoXl_o",
    "outputId": "754df63b-15bc-408a-cc0f-e011ed92de3c"
   },
   "outputs": [
    {
     "data": {
      "application/vnd.google.colaboratory.intrinsic+json": {
       "type": "string"
      },
      "text/plain": [
       "'startseq the heart size and pulmonary vascularity appear within normal limits . the lungs are free focal airspace disease . no pleural effusion pneumothora seen . endseq'"
      ]
     },
     "execution_count": 36,
     "metadata": {
      "tags": []
     },
     "output_type": "execute_result"
    }
   ],
   "source": [
    "y_cv_rep.values[937] # original"
   ]
  },
  {
   "cell_type": "markdown",
   "metadata": {
    "colab_type": "text",
    "id": "k0hOUXevXSZg"
   },
   "source": [
    "# Example 4"
   ]
  },
  {
   "cell_type": "code",
   "execution_count": 24,
   "metadata": {
    "colab": {
     "base_uri": "https://localhost:8080/",
     "height": 35
    },
    "colab_type": "code",
    "id": "iRMESAZLXSZs",
    "outputId": "fb4afff0-2a8e-4286-bfce-5b04de2de353"
   },
   "outputs": [
    {
     "data": {
      "text/plain": [
       "'the heart normal size . the mediastinum unremarkable . the lungs are clear .'"
      ]
     },
     "execution_count": 24,
     "metadata": {},
     "output_type": "execute_result"
    }
   ],
   "source": [
    "res72 = greedysearch(X_cv_img.values[72])  # 20 epochs\n",
    "res72"
   ]
  },
  {
   "cell_type": "code",
   "execution_count": 27,
   "metadata": {
    "colab": {
     "base_uri": "https://localhost:8080/",
     "height": 35
    },
    "colab_type": "code",
    "id": "3_Q27HxrXSZz",
    "outputId": "476a4d92-4fc0-45df-af04-e04b971dd71e"
   },
   "outputs": [
    {
     "data": {
      "application/vnd.google.colaboratory.intrinsic+json": {
       "type": "string"
      },
      "text/plain": [
       "'startseq the heart normal size . the mediastinum unremarkable . the lungs are clear . endseq'"
      ]
     },
     "execution_count": 27,
     "metadata": {
      "tags": []
     },
     "output_type": "execute_result"
    }
   ],
   "source": [
    "y_cv_rep.values[72] # original"
   ]
  },
  {
   "cell_type": "markdown",
   "metadata": {
    "colab_type": "text",
    "id": "RYBxF8_cXjsJ"
   },
   "source": [
    "# Example 5"
   ]
  },
  {
   "cell_type": "code",
   "execution_count": 25,
   "metadata": {
    "colab": {
     "base_uri": "https://localhost:8080/",
     "height": 35
    },
    "colab_type": "code",
    "id": "z73djnU7XjsX",
    "outputId": "1d21023c-f2e8-4822-c732-2b0a37febe88"
   },
   "outputs": [
    {
     "data": {
      "text/plain": [
       "'the heart size and mediastinal contours are within normal limits . the lungs are clear . there no pneumothora pleural effusion . there are are are no acute bony findings .'"
      ]
     },
     "execution_count": 25,
     "metadata": {},
     "output_type": "execute_result"
    }
   ],
   "source": [
    "res114 = greedysearch(X_cv_img.values[108])  # 20 epochs\n",
    "res114"
   ]
  },
  {
   "cell_type": "code",
   "execution_count": 30,
   "metadata": {
    "colab": {
     "base_uri": "https://localhost:8080/",
     "height": 35
    },
    "colab_type": "code",
    "id": "rMsWrowAXjse",
    "outputId": "b8faeb04-4690-402b-b827-eac40b94a021"
   },
   "outputs": [
    {
     "data": {
      "application/vnd.google.colaboratory.intrinsic+json": {
       "type": "string"
      },
      "text/plain": [
       "'startseq lungs are hyperinflated but clear . no focal infiltrate effusion . heart and mediastinal contours within normal limits . calcified mediastinal identified . endseq'"
      ]
     },
     "execution_count": 30,
     "metadata": {
      "tags": []
     },
     "output_type": "execute_result"
    }
   ],
   "source": [
    "y_cv_rep.values[108] # original"
   ]
  },
  {
   "cell_type": "markdown",
   "metadata": {},
   "source": [
    "# Beam Search"
   ]
  },
  {
   "cell_type": "code",
   "execution_count": 55,
   "metadata": {},
   "outputs": [],
   "source": [
    "def beamsearch(image, beam_width):\n",
    "    \n",
    "    start = [tokenizer.word_index['startseq']]\n",
    "\n",
    "    sequences = [[start, 0]]\n",
    "    \n",
    "    img_features = Xnet_Features[image]\n",
    "    img_features = encoder_model.predict(img_features)\n",
    "    finished_seq = []\n",
    "    \n",
    "    for i in range(155):\n",
    "        all_candidates = []\n",
    "        new_seq = []\n",
    "        for s in sequences:\n",
    "\n",
    "            text_input = pad_sequences([s[0]], 155, padding='post')\n",
    "            predictions = decoder_model.predict([img_features, text_input])\n",
    "            top_words = np.argsort(predictions[0])[-beam_width:]\n",
    "            seq, score = s\n",
    "            \n",
    "            for t in top_words:\n",
    "                candidates = [seq + [t], score - log(predictions[0][t])]\n",
    "                all_candidates.append(candidates)\n",
    "                \n",
    "        sequences = sorted(all_candidates, key = lambda l: l[1])[:beam_width]\n",
    "        # checks for 'endseq' in each seq in the beam\n",
    "        count = 0\n",
    "        for seq,score in sequences:\n",
    "            if seq[len(seq)-1] == tokenizer.word_index['endseq']:\n",
    "                score = score/len(seq)   # normalized\n",
    "                finished_seq.append([seq, score])\n",
    "                count+=1\n",
    "            else:\n",
    "                new_seq.append([seq, score])\n",
    "        beam_width -= count\n",
    "        sequences = new_seq\n",
    "        \n",
    "        # if all the sequences reaches its end before 155 timesteps\n",
    "        if not sequences:\n",
    "            break\n",
    "        else:\n",
    "            continue\n",
    "        \n",
    "    sequences = finished_seq[-1] \n",
    "    rep = sequences[0]\n",
    "    score = sequences[1]\n",
    "    temp = []\n",
    "    rep.pop(0)\n",
    "    for word in rep:\n",
    "        if word != tokenizer.word_index['endseq']:\n",
    "            temp.append(tokenizer.index_word[word])\n",
    "        else:\n",
    "            break    \n",
    "    rep = ' '.join(e for e in temp)        \n",
    "    \n",
    "    return rep, score"
   ]
  },
  {
   "cell_type": "markdown",
   "metadata": {},
   "source": [
    "# Example 1"
   ]
  },
  {
   "cell_type": "code",
   "execution_count": 56,
   "metadata": {},
   "outputs": [
    {
     "data": {
      "text/plain": [
       "('the lungs are clear bilaterally . specifically no evidence focal consolidation pneumothora pleural effusion . cardio mediastinal silhouette unremarkable . visualized osseous structures the thora are without acute abnormality .',\n",
       " 0.2561398010604549)"
      ]
     },
     "execution_count": 56,
     "metadata": {},
     "output_type": "execute_result"
    }
   ],
   "source": [
    "res501 = beamsearch(X_cv_img.values[501], 5) # beam_width = 5 \n",
    "res501"
   ]
  },
  {
   "cell_type": "code",
   "execution_count": 59,
   "metadata": {},
   "outputs": [
    {
     "data": {
      "text/plain": [
       "('the lungs are clear bilaterally . specifically no evidence focal consolidation pneumothora pleural effusion . cardio mediastinal silhouette unremarkable . visualized osseous structures the thora are without acute abnormality .',\n",
       " 0.2561398010604549)"
      ]
     },
     "execution_count": 59,
     "metadata": {},
     "output_type": "execute_result"
    }
   ],
   "source": [
    "res501 = beamsearch(X_cv_img.values[501], 7)  # beam_width = 7\n",
    "res501"
   ]
  },
  {
   "cell_type": "code",
   "execution_count": 138,
   "metadata": {},
   "outputs": [
    {
     "data": {
      "text/plain": [
       "'the heart size and mediastinal contours are within normal limits . the lungs are clear . there no pneumothora pleural effusion .'"
      ]
     },
     "execution_count": 138,
     "metadata": {},
     "output_type": "execute_result"
    }
   ],
   "source": [
    "greedysearch(X_cv_img.values[501]) # same with greedysearch"
   ]
  },
  {
   "cell_type": "code",
   "execution_count": 137,
   "metadata": {},
   "outputs": [
    {
     "data": {
      "text/plain": [
       "'startseq the lungs are clear bilaterally . specifically no evidence focal consolidation pneumothora pleural effusion . cardio mediastinal silhouette unremarkable . visualized osseous structures the thora are without acute abnormality . endseq'"
      ]
     },
     "execution_count": 137,
     "metadata": {},
     "output_type": "execute_result"
    }
   ],
   "source": [
    "y_cv_rep.values[501]  # original"
   ]
  },
  {
   "cell_type": "markdown",
   "metadata": {},
   "source": [
    "# Example 2"
   ]
  },
  {
   "cell_type": "code",
   "execution_count": 57,
   "metadata": {},
   "outputs": [
    {
     "data": {
      "text/plain": [
       "('the heart size and mediastinal contours are within normal limits . the lungs are clear . there no pneumothora large pleural effusion .',\n",
       " 0.5162640429696561)"
      ]
     },
     "execution_count": 57,
     "metadata": {},
     "output_type": "execute_result"
    }
   ],
   "source": [
    "res987 = beamsearch(X_cv_img.values[987], 5)\n",
    "res987"
   ]
  },
  {
   "cell_type": "code",
   "execution_count": 58,
   "metadata": {},
   "outputs": [
    {
     "data": {
      "text/plain": [
       "('the lungs are clear . there no pleural effusion pneumothora . the heart and mediastinum are normal . the skeletal structures are normal . there',\n",
       " 0.5512795658137505)"
      ]
     },
     "execution_count": 58,
     "metadata": {},
     "output_type": "execute_result"
    }
   ],
   "source": [
    "res987 = beamsearch(X_cv_img.values[987], 7)\n",
    "res987"
   ]
  },
  {
   "cell_type": "code",
   "execution_count": 146,
   "metadata": {},
   "outputs": [
    {
     "data": {
      "text/plain": [
       "'startseq lungs are clear without focal consolidation effusion pneumothora . normal heart size . bony thora and soft tissues unremarkable endseq'"
      ]
     },
     "execution_count": 146,
     "metadata": {},
     "output_type": "execute_result"
    }
   ],
   "source": [
    "y_cv_rep.values[987] # original"
   ]
  },
  {
   "cell_type": "code",
   "execution_count": 24,
   "metadata": {},
   "outputs": [],
   "source": [
    "def bleu(beam_width=5):\n",
    "    bleu1 = []\n",
    "    bleu2 = []\n",
    "    bleu3 = []\n",
    "    bleu4 = []\n",
    "    for img, rep in tqdm(zip(X_cv_img.values, y_cv_rep.values)):\n",
    "\n",
    "        rep = rem_fullstops(rep)    # excludes full stops from the evaluation\n",
    "        rep = rep.split()[1:]       # removes 'startseq' tag from the original rep\n",
    "        rep = rep[:len(rep)-1]      # removes 'endseq' tag from the original rep\n",
    "        rep = ' '.join(e for e in rep)\n",
    "\n",
    "        pred_rep, score = beamsearch(img, beam_width)\n",
    "        pred_rep = rem_fullstops(pred_rep)\n",
    "\n",
    "        bleu1.append(sentence_bleu([rep.split()], pred_rep.split(), weights = (1,0,0,0)))\n",
    "        bleu2.append(sentence_bleu([rep.split()], pred_rep.split(), weights = (0.5,0.5,0,0)))\n",
    "        bleu3.append(sentence_bleu([rep.split()], pred_rep.split(), weights = (0.33,0.33,0.33,0)))\n",
    "        bleu4.append(sentence_bleu([rep.split()], pred_rep.split(), weights = (0.25,0.25,0.25,0.25)))\n",
    "        \n",
    "    print('Bleu1 Score: ', sum(bleu1)/X_cv_img.shape[0])\n",
    "    print('Bleu2 Score: ', sum(bleu2)/X_cv_img.shape[0])\n",
    "    print('Bleu3 Score: ', sum(bleu3)/X_cv_img.shape[0])\n",
    "    print('Bleu4 Score: ', sum(bleu4)/X_cv_img.shape[0])\n",
    "    \n",
    "    return bleu1, bleu2, bleu3, bleu4"
   ]
  },
  {
   "cell_type": "markdown",
   "metadata": {},
   "source": [
    "## For beam width = 5"
   ]
  },
  {
   "cell_type": "code",
   "execution_count": 25,
   "metadata": {
    "scrolled": true
   },
   "outputs": [
    {
     "name": "stderr",
     "output_type": "stream",
     "text": [
      "1147it [7:50:14, 24.60s/it]"
     ]
    },
    {
     "name": "stdout",
     "output_type": "stream",
     "text": [
      "Bleu1 Score:  0.3334891598673293\n",
      "Bleu2 Score:  0.19823214470779463\n",
      "Bleu3 Score:  0.12143790045696895\n",
      "Bleu4 Score:  0.05810549577576362\n"
     ]
    },
    {
     "name": "stderr",
     "output_type": "stream",
     "text": [
      "\n"
     ]
    }
   ],
   "source": [
    "b1_5, b2_5, b3_5, b4_5 = bleu(5)"
   ]
  },
  {
   "cell_type": "markdown",
   "metadata": {},
   "source": [
    "## For beam width = 7"
   ]
  },
  {
   "cell_type": "code",
   "execution_count": 26,
   "metadata": {},
   "outputs": [
    {
     "name": "stderr",
     "output_type": "stream",
     "text": [
      "1147it [10:59:17, 34.49s/it]"
     ]
    },
    {
     "name": "stdout",
     "output_type": "stream",
     "text": [
      "Bleu1 Score:  0.333397581273717\n",
      "Bleu2 Score:  0.19851306959890594\n",
      "Bleu3 Score:  0.12239687221448745\n",
      "Bleu4 Score:  0.06010950266536122\n"
     ]
    },
    {
     "name": "stderr",
     "output_type": "stream",
     "text": [
      "\n"
     ]
    }
   ],
   "source": [
    "b1_7, b2_7, b3_7, b4_7 = bleu(7)"
   ]
  }
 ],
 "metadata": {
  "kernelspec": {
   "display_name": "Python [conda env:py3-TF2.0] *",
   "language": "python",
   "name": "conda-env-py3-TF2.0-py"
  },
  "language_info": {
   "codemirror_mode": {
    "name": "ipython",
    "version": 3
   },
   "file_extension": ".py",
   "mimetype": "text/x-python",
   "name": "python",
   "nbconvert_exporter": "python",
   "pygments_lexer": "ipython3",
   "version": "3.7.6"
  }
 },
 "nbformat": 4,
 "nbformat_minor": 4
}
